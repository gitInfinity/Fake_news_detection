{
 "cells": [
  {
   "cell_type": "code",
   "execution_count": 2,
   "id": "9cb42338",
   "metadata": {},
   "outputs": [],
   "source": [
    "import pandas as pd\n",
    "import numpy as np\n",
    "from sklearn.model_selection import train_test_split\n",
    "from sklearn.preprocessing import StandardScaler\n",
    "from sklearn.linear_model import LogisticRegression\n",
    "from sklearn.metrics import classification_report, confusion_matrix, accuracy_score"
   ]
  },
  {
   "cell_type": "code",
   "execution_count": 3,
   "id": "8414d66c",
   "metadata": {},
   "outputs": [
    {
     "data": {
      "text/html": [
       "<div>\n",
       "<style scoped>\n",
       "    .dataframe tbody tr th:only-of-type {\n",
       "        vertical-align: middle;\n",
       "    }\n",
       "\n",
       "    .dataframe tbody tr th {\n",
       "        vertical-align: top;\n",
       "    }\n",
       "\n",
       "    .dataframe thead th {\n",
       "        text-align: right;\n",
       "    }\n",
       "</style>\n",
       "<table border=\"1\" class=\"dataframe\">\n",
       "  <thead>\n",
       "    <tr style=\"text-align: right;\">\n",
       "      <th></th>\n",
       "      <th>title</th>\n",
       "      <th>text</th>\n",
       "      <th>subject</th>\n",
       "      <th>date</th>\n",
       "    </tr>\n",
       "  </thead>\n",
       "  <tbody>\n",
       "    <tr>\n",
       "      <th>0</th>\n",
       "      <td>As U.S. budget fight looms, Republicans flip t...</td>\n",
       "      <td>WASHINGTON (Reuters) - The head of a conservat...</td>\n",
       "      <td>politicsNews</td>\n",
       "      <td>December 31, 2017</td>\n",
       "    </tr>\n",
       "    <tr>\n",
       "      <th>1</th>\n",
       "      <td>U.S. military to accept transgender recruits o...</td>\n",
       "      <td>WASHINGTON (Reuters) - Transgender people will...</td>\n",
       "      <td>politicsNews</td>\n",
       "      <td>December 29, 2017</td>\n",
       "    </tr>\n",
       "    <tr>\n",
       "      <th>2</th>\n",
       "      <td>Senior U.S. Republican senator: 'Let Mr. Muell...</td>\n",
       "      <td>WASHINGTON (Reuters) - The special counsel inv...</td>\n",
       "      <td>politicsNews</td>\n",
       "      <td>December 31, 2017</td>\n",
       "    </tr>\n",
       "    <tr>\n",
       "      <th>3</th>\n",
       "      <td>FBI Russia probe helped by Australian diplomat...</td>\n",
       "      <td>WASHINGTON (Reuters) - Trump campaign adviser ...</td>\n",
       "      <td>politicsNews</td>\n",
       "      <td>December 30, 2017</td>\n",
       "    </tr>\n",
       "    <tr>\n",
       "      <th>4</th>\n",
       "      <td>Trump wants Postal Service to charge 'much mor...</td>\n",
       "      <td>SEATTLE/WASHINGTON (Reuters) - President Donal...</td>\n",
       "      <td>politicsNews</td>\n",
       "      <td>December 29, 2017</td>\n",
       "    </tr>\n",
       "  </tbody>\n",
       "</table>\n",
       "</div>"
      ],
      "text/plain": [
       "                                               title  \\\n",
       "0  As U.S. budget fight looms, Republicans flip t...   \n",
       "1  U.S. military to accept transgender recruits o...   \n",
       "2  Senior U.S. Republican senator: 'Let Mr. Muell...   \n",
       "3  FBI Russia probe helped by Australian diplomat...   \n",
       "4  Trump wants Postal Service to charge 'much mor...   \n",
       "\n",
       "                                                text       subject  \\\n",
       "0  WASHINGTON (Reuters) - The head of a conservat...  politicsNews   \n",
       "1  WASHINGTON (Reuters) - Transgender people will...  politicsNews   \n",
       "2  WASHINGTON (Reuters) - The special counsel inv...  politicsNews   \n",
       "3  WASHINGTON (Reuters) - Trump campaign adviser ...  politicsNews   \n",
       "4  SEATTLE/WASHINGTON (Reuters) - President Donal...  politicsNews   \n",
       "\n",
       "                 date  \n",
       "0  December 31, 2017   \n",
       "1  December 29, 2017   \n",
       "2  December 31, 2017   \n",
       "3  December 30, 2017   \n",
       "4  December 29, 2017   "
      ]
     },
     "execution_count": 3,
     "metadata": {},
     "output_type": "execute_result"
    }
   ],
   "source": [
    "df_fake = pd.read_csv('fake.csv')\n",
    "df_true = pd.read_csv('true.csv')\n",
    "df_true.head()"
   ]
  },
  {
   "cell_type": "code",
   "execution_count": 4,
   "id": "af4cc52b",
   "metadata": {},
   "outputs": [
    {
     "data": {
      "text/plain": [
       "title      0\n",
       "text       0\n",
       "subject    0\n",
       "date       0\n",
       "dtype: int64"
      ]
     },
     "execution_count": 4,
     "metadata": {},
     "output_type": "execute_result"
    }
   ],
   "source": [
    "df_true.isnull().sum()\n",
    "df_fake.isnull().sum()"
   ]
  },
  {
   "cell_type": "code",
   "execution_count": 5,
   "id": "e18b5d70",
   "metadata": {},
   "outputs": [
    {
     "name": "stdout",
     "output_type": "stream",
     "text": [
      "(23481, 4)\n",
      "(21417, 4)\n"
     ]
    }
   ],
   "source": [
    "print(df_fake.shape)\n",
    "print(df_true.shape)"
   ]
  },
  {
   "cell_type": "code",
   "execution_count": 6,
   "id": "a0a409a0",
   "metadata": {},
   "outputs": [
    {
     "name": "stdout",
     "output_type": "stream",
     "text": [
      "--- DataFrames BEFORE Removing Duplicates ---\n",
      "Fake News Count: 23481\n",
      "True News Count: 21417\n",
      "----------------------------------------\n",
      "--- DataFrames AFTER Removing Duplicates ---\n",
      "Fake News Count: 23478\n",
      "True News Count: 21211\n"
     ]
    }
   ],
   "source": [
    "print(\"--- DataFrames BEFORE Removing Duplicates ---\")\n",
    "print(f\"Fake News Count: {len(df_fake)}\")\n",
    "print(f\"True News Count: {len(df_true)}\")\n",
    "print(\"-\" * 40)\n",
    "\n",
    "# 1. Remove duplicates from df_fake\n",
    "df_fake.drop_duplicates(inplace=True)\n",
    "\n",
    "# 2. Remove duplicates from df_true\n",
    "df_true.drop_duplicates(inplace=True)\n",
    "\n",
    "print(\"--- DataFrames AFTER Removing Duplicates ---\")\n",
    "print(f\"Fake News Count: {len(df_fake)}\")\n",
    "print(f\"True News Count: {len(df_true)}\")"
   ]
  },
  {
   "cell_type": "code",
   "execution_count": 7,
   "id": "72185b27",
   "metadata": {},
   "outputs": [
    {
     "name": "stdout",
     "output_type": "stream",
     "text": [
      "<bound method Series.sum of title                                                                                                                                   text                                                                                                                                                                                                                                                                                                                                                                                                                                                                                                                                                                                                                                                                                                                                                                                                                                                                                                                                                                                                                                                                                                                                                                                                                                                                                                                                                                                                                                                                                                                                                                                                                                                                                                                                                                                                                                                                                                                                                                                                                                                                                                                                                                                                                                                                                                                                                                                                                                                                                                                                                                                                                                                                                                                                                                                                                                                                                                                                                                                                                                                                                                                                                                                                                                                                                                                                                                                                                                                                                                                                                                                                                                                                                                                                                                                                                                                                                                                                                                                                                                                                                                                         subject   date             \n",
      "“You’re Not Welcome!” Obama As Welcome At Roseberg Funerals As Westboro Baptist Church Members [Videos]                                 Roseberg residents and families of victims are speaking out against Obama and are repulsed by his obvious desire to use the deaths and injuries of their loved ones to promote his leftist agenda. Of course, he s going anyhow. It is of no consequence to him that basically the whole town wants him to stay away. Keep it classy Barry Maybe the Roseberg residents should make the same kind of human chain between Barack and the cameras that they do around the Westboro Baptist  Church  members at funerals Roseberg residents and even relatives of victims are telling Barack Obama to stay home and don t come here to dance on the graves of our loved ones.  You re not welcome! Tomorrow President Obama is scheduled to visit Rosenburg, Oregon, where 10 people were killed last week at Umpqua Community College by a deranged killer who happened to use a gun to carry out his crimes.We ve already reported on the repulsed reaction from the community as people who live there continue to reject Obama s visit. Now Stacy Boylan, the father of shooting victim Ana Boylan, is directly speaking out against Obama s visit and has no interest in putting up with his exploitation of the tragedy for political purposes. I do believe it was Rahm Emanuel who said  Never let a good tragedy go to waste,  and I really feel that his [Obama] visit here is to completely to support his gun control agenda. I can t understand why he wouldn t make a mention of the families and the victims. I mean, he did say that it was a tragic incident and I do thank him for lowering the flags but he made it all about gun control. He was very clear about that and we saw this in Sandy Hook and now we re seeing it again and I just question his motives,  Boylan said.  I ve spoken to my family and for myself and for my family, my daughter and son, on principle I find that we are in disagreement with his policies on gun control and therefore we will not be attending the visit. My position on this is that gun free zones are an issue, they re a target for crazy people because they know they re not going to be met with resistance. You know, my daughter said to me,  What if somebody would have had a gun?  Gun free and gun control takes that option off the table. Somebody doesn t have to use their gun in defense, but to take that option entirely, I don t think that s the right course,  he continued. Via: Townhall On Monday, David Jacques, publisher of the Roseburg Beacon, appeared on a Fox News segment with Bill O Reilly.He made it clear President Obama was not welcome in Roseburg and certainly not to crash the funerals of those killed in the Umpqua Community College mass shooting by using it for his own liberal agenda.https://youtu.be/F-fS9SBLTGkVia: Downtrend                                                                                                                                                                                                                                                                                                                                                                                                                                                                                                                                                                                                                                                                                                                                                                                                                                                                                                                                                                                                                                                                                                                                                                                                                                                                            politics  Oct 7, 2015          1\n",
      "\\r\\r\\r\\r\\r\\r\\r\\nDonald Trump Gets His A** Handed To Him By A 10-Year-Old Girl (VIDEO)\\r\\r\\r\\r\\r\\r\\r\\n                                   A 10-year-old girl smacked down Donald Trump, and it was amazing.On Saturday, the Huffington Post interviewed Lexi, an adorable Hillary Clinton volunteer who had absolutely no problem shredding the Republican billionaire when asked how she feels about him.Lexi slammed Trump for having zero experience in government and compared him to her brother who thinks he knows everything. Number one, he doesn t have any experience, at all,  Lexi said.  And he sits there and thinks,  Oh I m Mr. Donald Trump, I know everything,  which is sort of like my brother. She also broke the bad news to Trump s supporters that if they think they ll get money by voting for Trump, they are sorely mistaken. He s just rich, a lot of people just vote for him because they think they ll get some money, too. But that s not it. You think you re going to get the money, but that s not the case. Lexi then took aim at Trump s xenophobia and racism and made it clear what parents who vote for Trump can expect of their children s future should he get in the White House. Oh, and she also had positive things to say about Bernie Sanders, who she sees as someone who is  building an environment for the kids. It s ridiculous because I mean, look at these people, your best friend you may not know is Muslim or Jewish. And Bernie Sanders, he s Jewish. You don t see anybody talking about that. He s just building an environment for the kids, their parents are voting for Donald Trump, but little do they know that their kids will grow up not having a good education and not having good jobs. Lexi then warned that if people fail to show up and vote on Election Day in November, it could mean a Trump victory. And she thinks his hair is  gross. If you don t vote, then Mr. Donald Trump will be president. I don t think that s his real hair, being president. His hair, look at it! Look at it! It s gross. I can t believe that s his real hair. Here s the video via Huffington Post. Lexi s interview can be found at the 7:30 mark.// < ![CDATA[ // < ![CDATA[ // < ![CDATA[ (function(d, s, id) { var js, fjs = d.getElementsByTagName(s)[0]; if (d.getElementById(id)) return; js = d.createElement(s); js.id = id; js.src = \"//connect.facebook.net/en_US/sdk.js#xfbml=1&#038;version=v2.3\"; fjs.parentNode.insertBefore(js, fjs);}(document, 'script', 'facebook-jssdk')); // ]]&gt;HuffPost s Caroline Modarressy-Tehrani takes us through Hillary HQ with chicken & waffles on primary day in S.C. (Yes, chicken & waffles.)Posted by HuffPost Politics on Saturday, February 27, 2016Donald Trump just got his ass handed to him by what he fears most: an intelligent young girl who is going to be a strong woman when she grows up. Featured image via YouTube screen capture                                                                                                                                                                                                                                                                                                                                                                                                                                                                                                                                                                                                                                                                                                                                                                                                                                                                                                                                                                                                                                                                                                                                                                                                                                                                                           News      February 29, 2016    1\n",
      "\\r\\r\\r\\r\\r\\r\\r\\nEx-GOP Congressman Shreds Fellow Republicans For Not ‘Howling’ For Trump’s Impeachment (VIDEO)\\r\\r\\r\\r\\r\\r\\r\\n          At this point, every Republican who refuses to have a spine and stand up to Donald Trump s ignorance and tyranny is just as guilty of endangering the country as America s unworthy POTUS   and one GOPer is letting them know it.Recently, former U.S. Rep. Bob Inglis (R-SC) trashed his fellow GOPers for being so weak and  whimpering  when faced with Trump s numerous scandals, particularly Russia s possible interference in the 2016 election. Directly calling out how weak the Republican Party has been at upholding their own values and loyalty to the U.S. Constitution, Inglis stated that conservatives need to get their act together and actually start taking the Russian meddling seriously. This is particularly noteworthy because former Director of Homeland Security Jeh Johnson says  it s a fact  that Russia interfered in the election. Inglis said: The president needs to understand that this is an investigation of an attack by a hostile power at the very heart of our republic. If he were wise, he would open up the doors and say,  Let s look into it, come and see what all I ve got because we ve got to know what happened here. While Trump has never been one to take advice from anyone (no matter how much smarter they are), Inglis suggested that the best way Trump could get on America s good side is to simply stop getting in the way of the investigation and actually cooperate for once.Pointing out a double standard in the Republican Party, Inglis stated that if it had been Hillary Clinton as POTUS and she had fired FBI Director James Comey for reopening an investigation on her email server, the GOP would be up in arms. He said: Republicans would be howling about that, we would be talking about impeachment. We d be talking about obstruction of justice, but as it is, we re sort of whimpering. We re not after this thing. We need to really be after it. You can watch Inglis shred the GOP for its hypocrisy below:Featured image via Pool /Getty Images                                                                                                                                                                                                                                                                                                                                                                                                                                                                                                                                                                                                                                                                                                                                                                                                                                                                                                                                                                                                                                                                                                                                                                                                                                                                                                                                                                                                                                                                                                                                                                                                                                                                                                                                                                                                                                                                                                                                                                                                                                                                                 News      June 22, 2017        1\n",
      "\\r\\r\\r\\r\\r\\r\\r\\nTrump Gets STOMPED For Whining About President Obama Using Air Force One On Campaign Trail\\r\\r\\r\\r\\r\\r\\r\\n              Donald Trump has been attacking President Obama for campaigning in support of Hillary Clinton, and he got his ass handed to him for it on Twitter.The Republican nominee attacked Obama on his Twitter account on Thursday by complaining about the use of Air Force One and said President Obama should be creating jobs and fixing Obamacare instead of campaigning for the Democratic nominee.Looking at Air Force One @ MIA. Why is he campaigning instead of creating jobs & fixing Obamacare? Get back to work for the American people!  Donald J. Trump (@realDonaldTrump) November 3, 2016But sitting presidents have been campaigning for their party s nominee and potential successor for decades, and seeing as how flying commercial is not practical, traveling on Air Force One is the best way for President Obama to campaign and do his job at the same time since the office goes where he goes, even on vacation.Trump and his deplorable supporters have also been claiming that taxpayers are paying the cost of President Obama using Air Force One to campaign for Hillary, but that s not true. As it turns out, the Hillary Clinton campaign pays the cost of these trips.So Trump s complaints about President Obama are nothing more than petty swipes designed to rile up his supporters who already hate Obama, which is why Twitter users hilariously mocked the Republican nominee in response to his post.@realDonaldTrump You mean the American people who ve made him an incredibly popular President with a high approval rating?  Slothy McSloth Sloth (@smcslothsloth) November 3, 2016@realDonaldTrump Must give you heartburn remembering briefly in 2012 when he mocked you for the clown you are and everyone laughed at you  Slothy McSloth Sloth (@smcslothsloth) November 3, 2016@realDonaldTrump And now, you may try to convince yourself you re close, but you ll never ride that plane as President.  Slothy McSloth Sloth (@smcslothsloth) November 3, 2016@KatSnarky Source? Presidents pay for their (and their families ) lodging, food and incidentals while on  vacation.  https://t.co/mmdKDQqdH5  Amy   I m With Her (@Poddling) November 3, 2016@hspickering1 Hey skippy, the Clinton campaign PAYS for the POTUS to travel and stump for her. That s under FEC LAW. @KatSnarky @Poddling  Billy Tee (@BillyT_202) November 3, 2016.@realDonaldTrump Delete your account.  Ryan Sager (@ryansager) November 3, 2016@realDonaldTrump He s doing fine. pic.twitter.com/uj5pR2QOcJ  pourmecoffee (@pourmecoffee) November 3, 2016@pourmecoffee @realDonaldTrump why don t u stop tweeting and go release ur tax returns instead?! #never trump #imwithher  britt-angela (@bangela72) November 3, 2016@realDonaldTrump stopping you from getting in the White House is doing the people s work!  Mychal Harrison (@Magic_Mych) November 3, 2016@MathiasB26 Isn t this what all popular Presidents do the final weeks of an election? Campaign Never Trump so to me he s WORKING!  Mychal Harrison (@Magic_Mych) November 3, 2016@realDonaldTrump Because he doesn t want an orange fuckwit to ruin the world.  Nick Names Nuts (@nicknamesnuts) November 3, 2016@ginanotjenna @realDonaldTrump crawl back n ur hole: How Obamas Rising Approval Ratings Compare W/ Recent Presidents https://t.co/wHkdSn8oGc  Ron Mexico (@meowmeowbeen) November 3, 2016@jbristol11 @realDonaldTrump you do realize the Ronald Reagan campaigned for Bush don t you? It s not uncommon. Can post photos if needed  Aaron Hunter (@Aaron_hunter13) November 3, 2016Yeah, enough said.Featured Image: Pete Souza/White House Photo.                                                                                                                                                                                                                                                                                                                                                                                                                                                     News      November 5, 2016     1\n",
      "\\r\\r\\r\\r\\r\\r\\r\\nWATCH: Democratic Rep Delivers Scathing Rebuke Of Trumpcare Bill To Thunderous Applause On House Floor\\r\\r\\r\\r\\r\\r\\r\\n  Massachusetts Rep. Jim McGovern brought the House down with a scathing rebuke of the pathetic Republican healthcare bill on Tuesday.He began by pointing out that the bill destroys all of the good things that the Affordable Care Act provides, such as covering preexisting conditions and allowing kids to stay on their parents  insurance until the age of 26.McGovern conceded that the Affordable Care Act, also known as Obamacare, is not perfect. It has some issues that can be fixed, and Democrats have repeatedly offered to work with Republicans to fix the problems and cover more people while also bringing down costs.But as McGovern noted, Republicans are only obsessed with repealing the law. They have no interest in fixing the minor problems, many of which they created themselves by chipping away at the law over the years.So far, the Republican bill touted by Trump has failed several times in the House because even many Republicans are concerned about the fact that repealing the Affordable Care Act would strip healthcare away from millions of Americans, including their own constituents.For months, Republicans have been torn a new one by their constituents at town halls over their effort to repeal what has become a very popular law. It is even more popular than Donald Trump now.In their continued effort to sell the bill to the American people, Trump and House Republicans have been insisting that it covers pre-existing conditions. But that is a complete lie.Nowhere in the Trumpcare bill will you find a passage making it clear that people with pre-existing conditions won t lose their insurance. It s just not there.McGovern called out Republicans for this lie on the House floor. To claim or to imply that the Republican plan covers people with preexisting conditions, it is a lie,  McGovern declared. It is a lie. And let s be honest about it. This does not cover people with preexisting conditions. And to come on the floor and say it does, to try to fool people, well, you may get away with it in the short term, you may get a headline but I tell you people will figure out soon enough when they are denied health care coverage. Furthermore, Republicans refuse to get a CBO score for the bill before holding a vote because they know it will get a failing grade.For one thing, the bill would be a massive tax cut for the wealthy at the expense of the millions of Americans who finally got healthcare coverage through the Medicaid expansion.McGovern shamed Republicans for this. You should be ashamed,  McGovern said.  To have a health care bill that cuts Medicaid by $880 billion so you can give a tax cut to the wealthiest people in this country, you should be ashamed. He then called upon Republicans to vote against the bill or pull it entirely and received a standing ovation.Here s the video via YouTube.If Trump and Republicans have their way, millions of Americans will suffer so that wealthy assholes can get even richer. That s outrageous.But even more outrageous is the fact that while the American people will lose the benefits of the Affordable Care Act, Republicans have exempted themselves from losing the same benefits the law provides.That s right. Republicans are literally making sure that they get to keep their Obamacare. That makes them heartless and selfish as well as hypocrites. They should not only be ashamed, they should be booted out of office.Featured image screenshot                                                                                                                                                                                                                                                                                                                                                                                                                                                                                                                                                                   News      May 4, 2017          1\n",
      "                                                                                                                                                                                                                                                                                                                                                                                                                                                                                                                                                                                                                                                                                                                                                                                                                                                                                                                                                                                                                                                                                                                                                                                                                                                                                                                                                                                                                                                                                                                                                                                                                                                                                                                                                                                                                                                                                                                                                                                                                                                                                                                                                                                                                                                                                                                                                                                                                                                                                                                                                                                                                                                                                                                                                                                                                                                                                                                                                                                                                                                                                                                                                                                                                                                                                                                                                                                                                                                                                                                                                                                                                                                                                                                                                                                                                                                                                                                                                                                                                                                                                                                                                                                                                                                                                                   ..\n",
      " #NeverTrump GOP Delegates: Party Brass Intimidating Us Into Supporting Trump (VIDEO)                                                   Donald Trump is the Republican Party s presumptive presidential nominee for the 2016 election. However, there is a growing faction of the party that is not at all happy about this. Trump has been a public relations nightmare since the day he started running, and he is showing no signs of stopping that trend. Further, anyone with a brain can see that he is dangerously unqualified to hold the office of the presidency. However, that has not stopped major GOP players from lining up behind Trump like the spineless, party-before-country morons that they are. The #NeverTrump faction of the party sees this as the massive problem that it is, though, and they have decided to openly revolt in an effort to deny Trump the nomination at the GOP convention in Cleveland.This newly formed group of #NeverTrump delegates has rebranded themselves. They are now known as  Free the Delegates. The name comes from the idea that delegates bound to Donald Trump should be free to vote their conscience at the convention rather than being forced to vote for the presumptive nominee. They held a conference call Sunday night, with a reported more than 1,000 Republican delegates nationwide participating in the brainstorming efforts to stop Trump from formally taking their party s nomination.However, there is a problem. The party elite at the state and national level are not going to easily allow these country-before-party Republicans to rise up against Trump. Delegates from the #NeverTrump faction say that they are facing  intimidation  from party leaders who are insisting that they are all, as a party, obligated to support Trump. A delegate from North Carolina says that she and other N.C. delegates are very much under direct threat from our state with a $10,000 fine  if they refuse to vote for Trump. She also alleges that she was  threatened  via social media over her #NeverTrump position. The same delegate says that in Arizona, in order to participate in the convention, delegates actually have to sign a pledge that they will, unequivocally, vote pro-Trump.Despite the intimidation and threats, though, those on the nationwide Sunday night call say that they want those who are uneasy about Trump to  do the right thing, not the easy thing.  #NeverTrump Colorado delegate Regina Thompson said to those who support their cause: We want you to be proud to tell your children and grandchildren that the person we have nominated and are ready to elect as president is a moral person who will take seriously the oath of office. Will you be able to tell them that you were not afraid of public opinion or party leaders? Luckily, the #NeverTrump delegates already have an outside PAC, called Courageous Conservatives, that is going to be collecting funds to help with legal fees due to the inevitable blowback those looking to oust Trump will face. Spokesman Steve Lonegan says to the delegates that it will help to provide you support should you be threatened on the state level with some form of retribution. Kendal Unrah of Colorado is on the RNC Rules Committee and firmly #NeverTrump. She says of the planned ousting: It s just kind of an easy sell. And I don t think that there s going to be enough organized resistance on the other side to defeat it. Unruh does acknowledge how difficult it will be to get rid of Trump, but she is also optimistic: I m just very glad that we ve just all come together so quickly, because we have a monumental task to actually accomplish. But I will tell you the momentum that I have seen within the last week   it is just astonishing how fast this has come together,  she said. We re going to be hitting our peak right at convention time. Good luck, #NeverTrump delegates. You re the only remotely moral GOPers left in your party.Either way, this GOP civil war should be massively fun to watch for Democrats.Here is a video detailing the newly revived #NeverTrump effort, via NBC News:Featured image via Joe Raedle/Getty Images  News      June 20, 2016        1\n",
      " #NeverTrump Conservative Has The PERFECT Description Of Pundits’ Reaction To Trump’s Speech (VIDEO)                                    Donald Trump is being graded on a curve. He always has been, as he has broken every rule in the political handbook and still managed to lie, cheat, and insult his way to the presidency. However, on Tuesday night, he delivered a speech to a joint session of Congress   his first. For the most part, he stuck to his prepared remarks, and he seemed to keep his attention span and his temperament in check. There were no nasty insults to the press, to Democrats, or to Republicans who have been critical of him. Compared to the wild, unhinged antics we ve been treated to from Trump since the day he launched his disgusting presidential campaign, this speech was surprisingly normal by Trumpian standards. This seems to be good enough for cable news personalities at this point.But, one #NeverTrump conservative, Charlie Sykes, has news for said pundits: They are looking too hard for Trump to act like a normal president   or even a normal human being   and in turn they are behaving like abused spouses. Appearing on MSNBC, Sykes said of the punditry surrounding Trump s speech: There s almost a  battered pundit syndrome  going on out there. He comes home and he s not abusive, and he s not drunk, and so we re just so incredibly grateful, it s just so incredibly good. Sykes went on to remind people that Trump s  new tone  is unlikely to go beyond that speech. He ll be back to his old, unruly self again in no time   just like a drunken, abusive spouse. To that end, we, the American people, need to treat him like an abuser, because that is just what he is, only on a grand scale.Thank you, Mr. Sykes, for reminding everyone just who and what Trump is. Splashes of seeming normalcy from him should not be treated as if the storm has passed. It will never pass with this man.Watch the exchange below:Featured image via video screen capture                                                                                                                                                                                                                                                                                                                                                                                                                                                                                                                                                                                                                                                                                                                                                                                                                                                                                                                                                                                                                                                                                                                                                                                                                                                                                                                                                                                                                                                                                                                                                                                                                                                                                                                                                                                                                                                                                                                                                                                                                                                                                                                                                                                                            News      March 1, 2017        1\n",
      " #MakeAmericaBrannigan: Futurama Voice Actor Reads Trump’s Most Infamous Quotes (TWEETS)                                                The incredibly talented voice actor, Billy West, who is probably best known for his work on the hit television show Futurama has resurrected one of the show s most notorious characters. West posted audio of himself reciting quotes from Republican presidential candidate Donald Trump as the character Zapp Brannigan. West posted the audio clips of his readings to Twitter, where they have been retweeted thousands of times. The clips inspired people to create the hashtag #MakeTrumpBrannigan, a play on Trump s campaign slogan.Brannigan is the character everyone loves to hate. Brannigan is an astonishingly inept military captain whose primary directive seems to be to spread misogyny across the universe. You don t have to be a fan of the show to enjoy West s recitations of some of Trump s most infamous quotes. Such as this one from 2012, where he tweeted that,  the concept of global warming was invented by the Chinese. ZAPP presents  Famous Trump Quotations! pic.twitter.com/jGzmsKM9cF  Billy West (@TheBillyWest) August 10, 2016Brannigan s voice is as sleazy is just about as sleazy as a voice can be. This clip of the character is reading a quote from an interview in Forbes in 2014, where Trump said,  It s not a wig, it s my hair. Do you want to touch it?  is almost too much to handle.ZAPP presents   Famous Trump Quotes! #WednesdayWisdom #ManWithAPlan pic.twitter.com/dpKJOVkTmA  Billy West (@TheBillyWest) August 10, 2016Then again, hearing Trump defend the size of his hands as well as  various parts  of his  body  as he did both in an interview in 2006, and during a live Republican primary presidential primary debate has to be the best of the worst quotes recited by West.ZAPP presents Famous Trump Quotations! pic.twitter.com/cFq1rQ4veY  Billy West (@TheBillyWest) August 11, 2016Featured image from Fox                                                                                                                                                                                                                                                                                                                                                                                                                                                                                                                                                                                                                                                                                                                                                                                                                                                                                                                                                                                                                                                                                                                                                                                                                                                                                                                                                                                                                                                                                                                                                                                                                                                                                                                                                                                                                                                                                                                                                                                                                                                                                                                                                                                                                               News      August 13, 2016      1\n",
      " #FreeChrisChristie: Twitter Reacts To The ‘Hostage Situation’ At Trump’s Speech (TWEETS)                                               Last Friday, New Jersey Governor Chris Christie decided that endorsing GOP presidential front-runner Donald Trump was a good idea. Since then political pundits have all been asking, What was he thinking?  Well, on Tuesday night when Trump was giving his Super Tuesday victory speech, Christie seemed to come to the realization that he made a BIG mistake and that sudden awareness came as he stood behind the billionaire on stage. The governor s facial expressions as he listened to his candidate spew his usual nonsense created a Twitter storm, talks of a  hostage situation  and an epic hashtag: #FreeChrisChristie.Christie introduced Trump after the votes were tallied and he was declared victorious in six states. The NJ governor welcomed the  next President of the United States  onto the stage, stood behind him and promptly upstaged the GOP front-runner:Pop quiz: New York billionaire takes New Jersey governor hostage. What do you do. WHAT DO YOU DO? #freechrischristie pic.twitter.com/ucXKPfk7jh  Anthony Zurcher (@awzurcher) March 2, 2016 Anyone who hasn t seen the stare of Chris Christie, described so brilliantly in the piece I just RT d, it s this. https://t.co/DktHWj2ZXO  Rhodri Marsden (@rhodri) March 2, 2016On the next  Arrested Development  #ChrisChristie #FreeChrisChristie pic.twitter.com/YXO4rwCXTt  Melanism (@Melanism) March 2, 2016  I ve made a huge mistake. #FreeChrisChristie https://t.co/VOfFLeAAuS  Carissa Klarich (@theactivelife) March 2, 2016I believe we have a hostage situation on our hands @CNNPolitics https://t.co/dWcdYjcXg1 #FreeChrisChristie  Vasco Sousa Cotovio (@VascoSCotovio) March 2, 2016  Send snacks.   @ChrisChristie, probably #FreeChrisChristie pic.twitter.com/T6kSll1NK5  Holly Fussell (@redhairbluevote) March 2, 2016Chris Christie seems to be realizing just what he s signed on for up there. #FreeChrisChristie #SuperTuesday  Burnt Orange Report (@BOR) March 2, 2016Even Trevor Noah joined the fun: There s just one question on Chris Christie s mind. #SuperTuesdaypic.twitter.com/sSDnCXgxBE  The Daily Show (@TheDailyShow) March 2, 2016Christie did look like he was Donald Trump s hostage and we don t feel bad for him at all. The governor knew what he was getting himself into, he has said what a liar and horrible president Trump would be on multiple occasions. The only reason he even endorsed him is because he loves the media attention just as much as the billionaire loudmouth does. Now, he gets to live with the consequences of endorsing a racist, egotistical fool.On a side note, Trump is going to be soooo pissed that Christie stole the show. I wouldn t be surprised if we didn t see the two of them on stage together again.Watch a mash-up of his faces below:https://www.facebook.com/Vox/videos/488810047973269/ Featured image via Twitter                                                                                                                                                                                                                                                                                                                                                                                                                                                                                                                                                                                                                                                                                                                                                                                                                                                                                                                                                                                                                                                                                                                                                                                                               News      March 2, 2016        1\n",
      " #BringBackObama Hashtag Blows Up On Twitter As Americans Share Memories (TWEETS)                                                       The six months since President Donald Trump was inaugurated have been somewhat of an adventure, albeit not a particularly enjoyable one for most of us, so in the wake of Trump s latest turmoils involving himself, his son, and Russia, many took to Twitter on Wednesday while feeling more than just a little nostalgic, as the hashtag #BringBackObama started trending.Barack Obama supporters flocked to Twitter yesterday to share memories of a relatively more stable time in American history, posting photos and generally just yearning for a time now past, when the 44th President of the United States of America was still in power. Forget 44.5, I ll keep 44 until we get a real 45,  wrote @BerryMistyckle. My children came of age with a brilliant, courageous, soulful, decent president,  was contributed by @RavMABAY among many other tweets fondly reminiscing the days of the former leader of the free world.Once upon a time we had a president that was willing to deliver a speech under the rain. #LEGENDARY #bringbackobama #BringObamaBack https://t.co/PM6M7Ii3fL  Edgar Romero (@ed_romero93) July 12, 2017However, it wasn t all just praise and positive memories that were being shared, as there were plenty of Obama critics that wanted their voices heard, or at least their tweets read, too, slyly slipping the #BringBackObama hashtag into their tweets to attack the former President.Faux Progressive make excuses for Obama's Neoliberalism. Why? Obama punched down at black folks his entire Presidency. #BringObamaBack Nah.  Tim Black   (@RealTimBlack) July 12, 2017Sycophantic support of Obama despite his numerous failures caused you to be routed, democrats. #BringObamaBack pic.twitter.com/BOr0z7J6PS  AmishDriveBy ?? (@Amish_Drive_By) July 12, 2017#BringObamaBack so he can be prosecuted for his crimes. Spying on the American people, Logan act, sedition.  Nicole Andrews (@babycatcher16) July 12, 2017The Twitter debate erupted and raged on in the aftermath of Donald Trump Jr. releasing emails in which he accepted an offer to meet with a Russian lawyer who claimed to have damning information on Hillary Clinton, his father s opponent in the presidential race, as well as being told the Russian government backed Trump Sr s presidential candidacy.It is still unknown whether the President s son released all of the email contact he had with Russia, later published in the New York Times, but it definitely contradicts the months of denial of any dealings with the Russian government that has been coming out of the Trump camp   a story they ve described as a  witch hunt. Barack Obama recently criticized the  absence of American leadership  shown under the Trump administration in a speech he delivered in Berlin in June. While current Gallup polls show that the majority of Americans agree with him, there are still many that are critical of Obama s eight years in office.Featured image via Chip Somodevilla/Getty Images                                                                                                                                                                                                                                                                                                                                                                                                                                                                                                                                                                                                                                                                                                                                                                                                                                                                                                                                                                                                                                                                             News      July 13, 2017        1\n",
      "Name: count, Length: 23478, dtype: int64>\n",
      "<bound method Series.sum of title                                                                            text                                                                                                                                                                                                                                                                                                                                                                                                                                                                                                                                                                                                                                                                                                                                                                                                                                                                                                                                                                                                                                                                                                                                                                                                                                                                                                                                                                                                                                                                                                                                                                                                                                                                                                                                                                                                                                                                                                                                                                                                                                                                                                                                                                                                                                                                                                                                                                                                                                                                                                                                                                                                                                                                                                                                                                                                                                                                                                                                                                                                                                                                                                                                                                                                                                                                                                                                                                                                                                                                                                                                                                                                                                                                                                                                                                                                                                                                                                                                                                                                                                                                                                                                                                                                                                                                                                                                                                                                                                                                                                                                                                                                                                                                                                                                                                                                                                                                                                                                                                                                                                                                                                                                                                                                                                                                                                                                                                                                                                                                                                                                                                                                                                                                                                                                                                                                                                                                                                                                                                                                                                                                                                                                                                                                                                                                                                                                                                                                                                                                                                                                                                                                                                                                                                                                                                                                                                                                                                                                                                                                                                                                                                                                                                       subject       date              \n",
      "¿Qué bolá? Obama jokes with Cuban humorist in video                              HAVANA (Reuters) - U.S. President Barack Obama tried out his comedic chops with some Spanish in a video he made with Cuban humorist Pánfilo ahead of a historic visit to Havana. Obama, who has won praise from professional comedians for his comic timing, is due to arrive in Cuba on Sunday. He shot a segment from the Oval Office in which he pretends to have a conversation with Pánfilo in Cuba. The two sides of the call were edited together in a video playing on the Havana U.S. embassy’s social media feeds and the YouTube channel of an official Cuban media outlet on Saturday. (bit.ly/1WyRvHZ) Pánfilo calls Washington looking for a weather forecast for Tuesday’s exhibition game between Cuba’s national baseball team and the Tampa Bay Rays, a game Obama will intend. Instead of getting the weather service he ends up on the phone with Obama, asking if he is really speaking with the president. “Yes, the real Obama. Who’s this?” the president says. “I’m Pánfilo from Cuba.” “The real Pánfilo? From the TV show?” Obama asks. Pánfilo is shocked the president knows him, and Obama pretends to be equally star struck. “No me digas. ¿Qué bolá?” Obama says in Cuban slang. (“You don’t say. What’s up?”) Pánfilo then engages the U.S. president in his trademark gentle social satire of Cuban life, joking about old cars and cramped living quarters.                                                                                                                                                                                                                                                                                                                                                                                                                                                                                                                                                                                                                                                                                                                                                                                                                                                                                                                                                                                                                                                                                                                                                                                                                                                                                                                                                                                                                                                                                                                                                                                                                                                                                                                                                                                                                                                                                                                                                                                                                                                                                                                                                                                                                                                                                                                                                                                                                                                                                                                                                                                                                                                                                                                                                                                                                                                                                                                                                                                                                                                                                                                                                                                                                                                                                                                                                                                                                                                                                                                                                                                                                                                                                                                                                                                                                                                                                                                                                                                                                                                                                                                                                                                                                                                                                                                                                                                                                                                                                                                                                                                                                                                                                                                                                                                                                                                                                                                                                                                                                                                                                                                                                                                                                                                                                                                                                                                                                                                                                                                                                                                                                                                                                                                                                                            politicsNews  March 20, 2016        1\n",
      "\"It would be huge\": U.S. border town confronts possible import tax               NOGALES, Arizona (Reuters) - For up to 16 hours a day, tomatoes, peppers, cucumbers and mangoes grown in Mexico flow north through a border checkpoint into Nogales, Arizona, helping to ensure a year-round supply of fresh produce across the United States. This is a city built on cross-border trade.    Each year, some 330,000 trucks and 75,000 train cars carrying $17 billion worth of goods move through Nogales, according to U.S. Customs and Border Protection. Economists estimate trade supports nearly one in three jobs here, ranging from workers who inspect the goods to forklift operators who unload them in distribution centers.    In many ways, Nogales represents the flip side of free trade deals that have battered industrial cities in the Midwest, where jobs have been outsourced and manufacturing plants shut down. The cities where Donald Trump’s promise to throttle what he calls unfair competition resonated most profoundly during the presidential campaign. It also represents potential risks that new trade barriers could pose for businesses and residents along the border. Only a tall, rusted fence separates Nogales, Arizona, from Nogales, Mexico; the cities are so intertwined that locals call them by a single name, “Ambos Nogales” or “Both Nogales.”  Now in office, Trump is considering a 20 percent tax on imports from Mexico, one of several ideas under review in Washington, and is promising to renegotiate the North American Free Trade Agreement. More than a dozen city officials, employers and workers interviewed here said a border tax, if enacted, could choke the flow of imports from Mexico. They described a chain of events that would harm the economy, threaten local jobs and lead to higher prices for U.S. consumers. “President Trump should take a good look at the effects of whatever he does, because he’s going to end up with a real problem,” said Nogales Mayor John Doyle, who joined other lawmakers from Arizona, New Mexico and Texas in denouncing the  import tax plan in letters to U.S. lawmakers.      Food, autos and electronics go both ways across the border checkpoint, sometimes more than once. Mexican mangoes and melons come north while California almonds and apples from Washington state go south. U.S. car parts sent to Mexican factories are imported back as finished vehicles. “There are hundreds of products that come back and forth through the port of entry in Nogales,” Doyle said.        The Trump administration told Reuters that any tax deal would protect U.S. interests.      “The American people can rest assured that any policy President Trump pursues will be designed to increase wages for American workers, reduce the U.S. trade deficit, and strengthen the economy so that it works for all,” a White House official said in an email. Since the 1994 implementation of NAFTA, trade between Mexico and the United States has risen more than six fold. Each country exported about $40 billion to the other in 1993. Last year the United States imported $294 billion in goods from Mexico and exported $231 billion back, U.S. Census data show.     Nationwide, nearly 5 million jobs are now tied to trade with Mexico, from importers to jobs dependent on low-cost goods, according to a study by the non-partisan Wilson Center’s Mexico Institute.     In Santa Cruz County, surrounding Nogales, the produce import industry and supporting businesses account for more than 22 percent of jobs, according to a 2013 report by economists at the University of Arizona. Trade and support for factories across the border account for another 10 percent of the workforce.      The report’s lead author, Vera Pavlakovich-Kochi, said a 20 percent border tax would create the strictest barriers to trade in five decades. In addition to Trump’s proposal of a 20 percent tax on imports from Mexico, Republican lawmakers have put forth a plan that would cut corporate income tax to 20 percent from 35 percent, exclude export revenue from taxable income and impose a 20 percent tax on imports. The proposals have split Corporate America.  A group of major exporters including Boeing Co, General Electric Co and Pfizer Inc have formed a coalition to support the import tax. At the same time, large retailers, including Target Corp and Best Buy Co Inc, have countered that such a tax would raise consumer prices and hurt their businesses. Seated in his second-floor office in a warehouse nestled in the rolling hills on the outskirts of town, produce trader Jaime Chamberlain said business with Mexico is the lifeblood of Nogales, which brings in more pounds of Mexican produce than any other U.S. border town. It’s “one of the largest industries here with the most employment and the most to lose,” said Chamberlain, a board member of the Fresh Produce Association of the Americas. He voted for Trump and his pro-business, socially conservative agendas, but is lobbying state leaders to oppose the tax. Chamberlain’s parents began the family business with a $1,000 loan in 1971. He and his sister now own J-C Distributing Inc, which employs about 25 people who handle 120,000 pounds of Mexican tomatoes each week for Taco Bell in addition to orders for major companies such as Kroger Co and Sysco Corp.     The company warehouse is among more than six dozen such facilities on Interstate 19, just a few miles north of Nogales’ town square. In all, they bring in fruits and vegetables worth $3.3 billion a year, according to the Fresh Produce Association.      Local officials, residents and economists warn that a tax could reverberate across the local economy. For example, a 20 percent border tax could put some of the $17 million in produce trade-related fees on custom brokerage, freight forwarding and truck permits at risk.  “There are a lot of unintended consequences with this,” said Santa Cruz Board of Supervisors Chairman Manuel Ruiz. “There are domino effects all over. ”     Many local business people expect Mexico to fight back.     “A 20 percent tax could start a trade war with Mexico. I don’t see how we can impose that unilaterally,” said Ricardo Crisantes, vice president of marketing and sales at Wholesum Harvest, which is part of a Mexico-based company that has offices in Nogales and organic farms on both sides of the border.     Company representatives said a border tax could drive the company to shift more farming to the United States, but it also could send import demand to other parts of Latin America that would bypass Nogales.      Restaurant and store owners say the tax would make already tough times even worse.        “It would be huge,” said Karla Galindo, 35, who owns Rancho Grande restaurant in Nogales with her husband.       She and other local business owners said sales have already been hurt by the war of words between officials in Mexico and the United States. “People are afraid to spend their money,” Galindo said.     politicsNews  February 16, 2017     1\n",
      "\"Make Republicans Whole Again!\" A divided party struggles to rally behind Trump  CLEVELAND (Reuters) - Ted Cruz was recounting to an audience how he had outlasted most of his 16 rivals for the Republican presidential nomination when a plane carrying the man who had won it all, Donald Trump, flew overhead, interrupting him mid-speech. “All right, that was pretty well-orchestrated,” said Cruz, a Republican U.S. senator from Texas who waged a bitter campaign against Trump. Hours later Cruz would take his revenge, refusing to endorse Trump and urging Republicans to vote their conscience during a prime-time speech on the floor of the Republican National Convention in Cleveland. He left the podium to a chorus of boos, and his wife was escorted off the floor as the convention erupted in rancor. Susan Hutchison, chair of the Washington state delegation, said she confronted Cruz after his speech and called him a “traitor to the party.” So much for party unity. Over three days in Cleveland this week, Republican leaders sought to sell a story of unity. They repeatedly said the party was getting ever closer to rallying behind Trump, who is running on the slogan “Make America Great Again!” and whose candidacy has divided many and exposed deep discontent among  Republicans with their leaders.  But in a few minutes on Wednesday night that show of unity was blown apart in spectacular fashion. Cruz’s non-committal speech infuriated Trump supporters among the thousands of delegates cramming the floor of the Quicken Loans Arena in Cleveland. But their angry jeers triggered recriminations from other delegates.   “They talk about unity and then they act like that. That is not going to get us to unify,” said Manette Merrill, a Cruz delegate from Washington state.  Trump will get the opportunity to rally the party when he formally accepts its nomination on Thursday night in a speech expected to be watched by millions of Americans, including undecided and independent voters. One of Trump’s key goals going into this week’s convention was to unite the party after a roughly 18-month primary season that was marked by personal attacks on candidates, sometimes violent rallies, and deep disagreement over what it means to be a Republican. In public and in private the Trump campaign tried to win over skeptics who feel the New York businessman and celebrity TV star does not represent the party’s values. It took a harder stance against opponents, for example shutting down a desperate last-minute bid on the convention floor early in the week to stop his nomination.  “It’s like a slow crawl,” former Republican National Committee Chairman Michael Steele said of the unity drive as he made the rounds at the convention. “You’re kind of doing it. You’re kind of looking around to see if anyone else is doing it,” he told Reuters.  But almost from the start there were blatant signs of party disunity.  Ohio Governor John Kasich, who lost to Trump in the nomination fight and disagrees with Trump on a host of issues, declined to attend the convention held in his own state. Instead, he greeted his supporters at the Rock and Roll Hall of Fame close to the convention arena to the blaring tune of The Who’s “Baba O’Riley” with lyrics like, “I don’t need to fight to prove I’m right.” Trump campaign manager Paul Manafort told reporters that Kasich was “embarrassing his state” by refusing to get on the Trump train. His remarks were a reminder of the sort of insults that many Republicans had hoped would disappear after a brutal primary season that was characterized by Trump’s often personal attacks on his opponents. The pleas for unity were frequent in Cleveland, led by House of Representatives Speaker Paul Ryan, the top elected Republican, who has been slow in warming to Trump. “What do you say that we unify this party at this crucial moment when unity is everything?” Ryan asked thousands of convention attendees on Tuesday night. It was the biggest applause line of his speech - delegates cheered, clapped and waved signs. But U.S. Senator Mike Lee of Utah, one of the “never Trump” holdouts, is still not convinced.  “Federalism and separation of powers – if he focuses on that, he brings along a lot of conservatives like me who haven’t been sold yet,” Lee told Reuters. “He needs to make that a distinct part of his message.” Trump and his surrogates have offered scant policy details so far at the convention, nor have they been able to put to rest questions about whether they are capable of mounting a sophisticated presidential campaign to take on his Democratic rival Hillary Clinton. The convention has been overshadowed, for example, by controversy surrounding his wife Melania’s convention speech - which included lines uttered by first lady Michelle Obama at the Democratic convention in 2008 - and the campaign’s initial reluctance to admit the plagiarism. Some Republicans thought it was an unnecessary distraction at a time when the party should be focused on selling itself and its new leader to Americans.  Others said that if Trump was really serious about uniting the party he would reach out to his vanquished foes on the campaign trail, including Cruz and Kasich.   Ken Cope, a Texas delegate who had backed Cruz for president but will vote for Trump, said the New York businessman needs to “swallow his pride” and stress the contributions his 16 defeated rivals made to the primary process instead of belittling them. “He’s a prideful man and he’s proud of what he is but we’re in a general election campaign and it’s going to take all of us pulling on the rope if we’re going to pull the ship to the final line,” Cope said. Still others said Trump needed to be more disciplined. Trump supporter John Whitmer, a delegate from Wichita, Kansas, said Trump made a mistake by going on Fox News on Monday night to rail against Kasich as speakers were lauding his candidacy at the televised convention. “You just stepped on your best act,” Whitmer said. “I get that you want to talk about Kasich, but everybody needed to be watching what was going on there.” After Wednesday night, the best hope for the Republican Party to come together may rest on Clinton, who was frequently vilified at the Cleveland convention this week. She will be formally nominated as the Democratic presidential nominee at her party’s convention in Philadelphia next week. When asked if the party was unified, former Speaker of the House of Representatives and close Trump adviser, Newt Gingrich, replied: “No, but we will be by the end of Philadelphia.” “Trump will get us to 90 percent unity. She’ll get us the rest of the way.”                                                                                                                                                                                                                                                                                                                                            politicsNews  July 21, 2016         1\n",
      "\"Nobody stood with the Kurds\" says bitter Barzani                                BAGHDAD (Reuters) - Kurdish leader Masoud Barzani gave a bitter speech on Sunday to announce his resignation, saying no one outside the Kurds  home region had stood up to support their right of self-determination.  Barzani made a televised speech after the Iraqi Kurdistan  parliament approved his request not to extend his term beyond Nov. 1, after an independence referendum he championed last month backfired and triggered military and economic retaliation against the Kurdish region he has been leading since 2005.  Three million votes for Kurdistan independence created history and cannot be erased,  he said, referring to the referendum held on Sept. 25.   Nobody stood up with us other than our mountains,  he said, speaking with Kurdish and Iraqi flags behind him. He criticized the United States for allowing Abrams tanks  supplied to Iraqi forces to fight Islamic State militants to be used against the Kurds. He said American weapons were also used in attacks by Iranian-backed paramilitaries.  Without the help of Peshmerga (Kurdish fighters), Iraqi forces could not have liberated Mosul from ISIS alone,  he said, referring to Islamic State s former stronghold in northern Iraq.  Why would Washington want to punish Kurdistan?  He said followers of rival Kurdish leader Jalal Talabani, who died in early October, had been guilty of  high treason  for handing over the oil city of Kirkuk to Iraqi forces without a fight two weeks ago.  He said the Iraqi offensives since Oct. 16 and the refusal of the Iraqi government to agree to dialogue vindicated his view that  Iraq no longer believes in Kurdish rights .                                                                                                                                                                                                                                                                                                                                                                                                                                                                                                                                                                                                                                                                                                                                                                                                                                                                                                                                                                                                                                                                                                                                                                                                                                                                                                                                                                                                                                                                                                                                                                                                                                                                                                                                                                                                                                                                                                                                                                                                                                                                                                                                                                                                                                                                                                                                                                                                                                                                                                                                                                                                                                                                                                                                                                                                                                                                                                                                                                                                                                                                                                                                                                                                                                                                                                                                                                                                                                                                                                                                                                                                                                                                                                                                                                                                                                                                                                                                                                                                                                                                                                                                                                                                                                                                                                                                                                                                                                                                                                                                                                                                                                                                                                                                                                                                                                                                                                                                                                                                                                                                                                                                                                                                                                                                                                                                                                                                                                                                                      worldnews     October 29, 2017      1\n",
      "\"The people have spoken,\" Zimbabwe's Mnangagwa tells cheering crowd              HARARE (Reuters) - Zimbabwe s former vice president Emmerson Mnangagwa, who is due to be sworn in to replace Robert Mugabe as president on Friday, told a cheering crowd in Harare on Wednesday that the country was entering a new stage of democracy.  The people have spoken. The voice of the people is the voice of God,  Mnangagwa told thousands of supporters who had gathered outside the ruling ZANU-PF party s offices.  Today we are witnessing the beginning of a new and unfolding democracy.  Mugabe resigned as Zimbabwe s president on Tuesday, a week after the army and his former political allies moved to end four decades of rule by a man once feted as an independence hero who became feared as a despot.                                                                                                                                                                                                                                                                                                                                                                                                                                                                                                                                                                                                                                                                                                                                                                                                                                                                                                                                                                                                                                                                                                                                                                                                                                                                                                                                                                                                                                                                                                                                                                                                                                                                                                                                                                                                                                                                                                                                                                                                                                                                                                                                                                                                                                                                                                                                                                                                                                                                                                                                                                                                                                                                                                                                                                                                                                                                                                                                                                                                                                                                                                                                                                                                                                                                                                                                                                                                                                                                                                                                                                                                                                                                                                                                                                                                                                                                                                                                                                                                                                                                                                                                                                                                                                                                                                                                                                                                                                                                                                                                                                                                                                                                                                                                                                                                                                                                                                                                                                                                                                                                                                                                                                                                                                                                                                                                                                                                                                                                                                                                                                                                                                                                                                                                                                                                                                                                                                                                                                                                                                                                                                                                                                                                                                                                                                                                                                                                                                        worldnews     November 22, 2017     1\n",
      "                                                                                                                                                                                                                                                                                                                                                                                                                                                                                                                                                                                                                                                                                                                                                                                                                                                                                                                                                                                                                                                                                                                                                                                                                                                                                                                                                                                                                                                                                                                                                                                                                                                                                                                                                                                                                                                                                                                                                                                                                                                                                                                                                                                                                                                                                                                                                                                                                                                                                                                                                                                                                                                                                                                                                                                                                                                                                                                                                                                                                                                                                                                                                                                                                                                                                                                                                                                                                                                                                                                                                                                                                                                                                                                                                                                                                                                                                                                                                                                                                                                                                                                                                                                                                                                                                                                                                                                                                                                                                                                                                                                                                                                                                                                                                                                                                                                                                                                                                                                                                                                                                                                                                                                                                                                                                                                                                                                                                                                                                                                                                                                                                                                                                                                                                                                                                                                                                                                                                                                                                                                                                                                                                                                                                                                                                                                                                                                                                                                                                                                                                                                                                                                                                                                                                                                                                                                                                                                                                                                                                                                                                                                                                                                                                                                                                               ..\n",
      "'Big Bang Theory' trumps TV audience for latest Republican debate                NEW YORK (Reuters) - Some 11.9 million Americans watched Thursday’s unusually restrained Republican presidential debate on CNN, the network said on Friday, a sharp drop from the 16.9 million who tuned in last week when the Republican contenders faced off on a much rowdier evening. Thursday’s figure marked the second-smallest audience for a Republican presidential encounter since the 2016 campaign debates began in August 2015, according to Nielsen data.  More people on Thursday tuned in to popular CBS comedy “The Big Bang Theory,” which drew 14.5 million viewers, than watched the debate in Miami, the ratings data showed. The CNN-hosted debate at the University of Miami came just five days before voters in Florida and Ohio will determine whether U.S. Senator Marco Rubio of Florida and Ohio Governor John Kasich will be able to continue with their increasingly long-shot candidacies for the party’s nomination to run in the Nov. 8 general election. With previous assaults on front-runner Donald Trump having failed to knock him down, Rubio and U.S. Senator Ted Cruz of Texas chose a more civil approach on Thursday, raising questions about Trump’s policy positions without attacking him personally. Trump’s presence has boosted TV audiences for presidential debates, helping to attract a record 24 million viewers for his first official outing as a candidate in August last year.  Since then, however, audiences have dropped off, with only the raucous March 3 Republican encounter coming close to the interest seen last year. Democratic TV debates have fared less well with the public and have struggled to attract audiences of more than 10 million since January.  (Reporting by Jill Serjeant; Editing by Grant McCool and Matthew Lewis) This article was funded in part by SAP. It was independently created by the Reuters editorial staff. SAP had no editorial involvement in its creation or production.                                                                                                                                                                                                                                                                                                                                                                                                                                                                                                                                                                                                                                                                                                                                                                                                                                                                                                                                                                                                                                                                                                                                                                                                                                                                                                                                                                                                                                                                                                                                                                                                                                                                                                                                                                                                                                                                                                                                                                                                                                                                                                                                                                                                                                                                                                                                                                                                                                                                                                                                                                                                                                                                                                                                                                                                                                                                                                                                                                                                                                                                                                                                                                                                                                                                                                                                                                                                                                                                                                                                                                                                                                                                                                                                                                                                                                                                                                                                                                                                                                                                                                                                                                                                                                                                                                                                                                                                                                                                                                                                                                                                                                                                                                                                                                                                                                                                                                                                                                                                                                                                                                                                                                                      politicsNews  March 11, 2016        1\n",
      "'Ball in your court:' Britain, EU clash over next Brexit move                    LONDON/BRUSSELS (Reuters) - Britain and its European Union partners clashed on Monday over which side should make the next move to unblock Brexit talks, despite concerns they will miss a deadline for a divorce deal and that London is heading for a chaotic departure. Prime Minister Theresa May made clear in a speech she delivered to parliament that she hoped her EU partners would make proposals at a new round of talks opening the way to the next stage of negotiations, saying  the ball is in their court . But even before she had delivered her address, an EU spokesman hit back in Brussels, saying  the ball is entirely in the UK court for the rest to happen . May is desperate to try to regain some of her authority and refocus on talks to unravel 40 years of union after a speech at her party conference last week, marred by a repetitive cough, a prankster and a stage malfunction, left her weaker than ever. She has so far fought off attempts to unseat her by critics already angry over an ill-judged election when she lost her governing Conservatives  majority. But her weakness has opened the door for many in the party to challenge her Brexit strategy with just 18 months to go before Britain leaves the EU. With Brussels quietly preparing for a collapse in the talks and Britain getting ready for what May calls  every eventuality , some officials and business chiefs worry the  country will crash out of the EU without a deal. Speaking in parliament, May said her negotiators had made progress on the first phase of talks, tackling the rights of expatriates and the border with EU-member Ireland, and that she was determined to secure a new partnership with the other 27 members of the wealthy political and trade bloc.  Achieving that partnership will require leadership and flexibility, not just from us but from our friends, the 27 nations of the EU,  she told a raucous session of parliament.  And as we look forward to the next stage, the ball is in their court. But I am optimistic we will receive a positive response.  But the EU stuck to its terms:  There is a clear sequencing to these talks and there has been so far no solution found on step one, which is the divorce proceedings,  European Commission spokesman Margaritis Schinas told a regular briefing.  So the ball is entirely in the UK court for the rest to happen.  May, who hosted businesses on Monday to listen to their Brexit concerns, is keen to push the talks beyond a discussion of the divorce to try to offer firms some certainty about future trading conditions. According to a source familiar with the matter, May told business leaders that for her, a roughly two-year transitional agreement was non-negotiable.  It will happen,  the source said when asked what May had spoken about. She also said her government had no intention of revoking Article 50, which triggered the Brexit talks in March this year, and stopping Britain s departure. But a lack of progress in talks some 15 months after Britain voted to leave the EU in a referendum has added pressure on May, who was criticized by the opposition for failing to offer any clarity on what the future relationship will look like.  Now the reality for this Tory (Conservative) government is beginning to bite, but if things do not improve, the reality may soon begin to bite for the jobs and living standards of the people of this country,  said Jeremy Corbyn, leader of the opposition Labour Party. A report that aerospace manufacturer BAE Systems (BAES.L) is planning to cut more than 1,000 jobs did little to ease those concerns that without progress in the talks, firms will start to make staffing and relocation decisions.       EU negotiators say that while they see no big breakthrough at the summit next week, they may offer May a hand by offering hope of a shift at the next scheduled meeting in mid-December. Aides to May have signaled that the prime minister has accepted that her October deadline will not be met despite a speech in Italy last month which attempted to reset the tone of the difficult negotiations. But some pro-Brexit campaigners are calling on the prime minister to get ready to step away from the talks - underlining the deep divisions in the Conservative Party. Those differences were aired again on Monday with negative briefings in the local media against finance minister Philip Hammond, who supports prolonging the status quo with the EU for as long as possible, and foreign minister Boris Johnson, who angered some Conservatives for setting his own Brexit red lines. Some have suggested that May will reshuffle her cabinet, but her spokesman said she had full confidence in both ministers.  We are fast reaching the point when the prime minister should assert the authority of her office over the negotiations and call time,  Bernard Jenkin, a Conservative lawmaker, wrote in the Guardian newspaper. John Baron, another pro-Brexit campaigner, called on the government to  prepare more thoroughly for a  no deal .  I have long believed that the EU Commission primarily wants to punish Britain for daring to leave the organization,  he said.  We should have no fears about a  no deal  scenario.                                                                                                                                                                                                                                                                                                                                                                                                                                                                                                                                                                                                                                                                                                                                                                                                                                                                                                                                                                                                                                                                                                                                                                                                                                                                                                                                                                                                                                                                                                                                                                                                                                                                                                                                                                                          worldnews     October 8, 2017       1\n",
      "'Bad news for our enemies': EU launches defense pact                             BRUSSELS (Reuters) - European Union nations, now unfettered by Britain s decision to quit, achieved a 70-year-old ambition on Thursday to integrate their defenses, launching a pact between 25 EU governments to fund, develop and deploy armed forces together. European Council President Donald Tusk deemed the move  bad news for our enemies . First blocked by the French parliament in the 1950s and later by Britain, which feared creation of an EU army, the pact aims to end the squandering of billions of euros by splintered defense policies. It is also aimed at lowering Europe s heavy reliance on the United States.  More than half a century ago, an ambitious vision of the European Defence Community was created but what was missing was the unity and courage to put it into practice,  Tusk, who chairs EU summits, said of the failed 1950s attempt.   The dream was at odds with reality. Today this dream becomes reality,  he said in a speech in front of EU leaders and military personnel from each of the 25 countries involved.  Denmark, which has an opt out from EU defense matters, and Malta, were the only EU countries not to sign up, along with Brexiting Britain. French President Emmanuel Macron, whose election victory in May gave new impetus to efforts to revive defense cooperation after Britons voted in 2016 to leave the bloc, hailed  concrete progress.  Dutch Prime Minister Mark Rutte said the pact would make the EU more agile abroad and would support NATO. The pact, called Permanent Structured Cooperation, or PESCO, is meant as a show of unity and a tangible step in EU integration, diplomats said, particularly after Britain s decision to leave. Caught off guard by Russia s Crimea annexation in 2014 and facing threats ranging from state-sponsored computer hackers to militant attacks, EU governments say the pact is justified by EU surveys showing most citizens want the bloc to provide security. EU governments proved unable to act as a group in the 1990s Balkan wars and relied on U.S.-led NATO to stop the bloodshed on their doorstep. In Libya in 2011, a Franco-British air campaign ran out of munitions and equipment and was again forced to turn to the United States, in what is considered an enduring embarrassment for the EU, a major economic power.  U.S. President Donald Trump s criticism of low European defense spending, a host of divisions on foreign policy, and Trump s warnings to allies that they could no longer rely on the United States if they did not pay up, have also played a role.  It s sad that we needed Donald Trump to give us a boost, but whatever, it is the right outcome,  said former German foreign minister Joschka Fischer, who as minister backed NATO s intervention in Kosovo in 1999 but opposed the 2003 Iraq war. Unlike past attempts at European defense integration, NATO  backs the project, but NATO Secretary-General Jens Stoltenberg, who attended part of the summit, warned against duplication. Twenty-two EU countries are also members of NATO.  There has to be coherence between the capability developments of NATO and the European Union. We cannot risk ending up with conflicting requirements from the EU and from NATO to the same nations,  he told reporters.  Forces and capabilities developed under EU initiatives also have to be available for NATO because we only have one set of forces,  Stoltenberg said.  Issues remain about financing future EU missions. An EU defense fund, with money from the European Commission for the first time, still needs to be approved, although a pilot phase is already underway for defense research. In one irony noted by EU diplomats, British Prime Minister Theresa May, who attended the summit, was left seeking a way into the project now that it was an actuality.  A 1998 Anglo-French EU defense accord is considered the genesis of Thursday s agreement. In a possible compromise on PESCO, Britain may be able to join in later on, but only on an exceptional basis if it provides funds and expertise. Britain and France, both nuclear-armed, are Europe s two biggest military powers, and in 2010 set up a Combined Joint Expeditionary Force to cement long-standing ties in defense.  We do face a number of threats across Europe,  May said.  I m very clear that although the British people took a sovereign decision to leave the EU, that does not mean that we were going to be leaving our responsibilities in terms of European security,  she told reporters.                                                                                                                                                                                                                                                                                                                                                                                                                                                                                                                                                                                                                                                                                                                                                                                                                                                                                                                                                                                                                                                                                                                                                                                                                                                                                                                                                                                                                                                                                                                                                                                                                                                                                                                                                                                                                                                                                                                                                                                                                                                                                                                                                                                                                                                                                                                                                                                                                                                                                                                                             worldnews     December 14, 2017     1\n",
      "'At the doors of starvation:' siege strangles Damascus suburbs                   EASTERN GHOUTA (Reuters) - A tightening siege has pushed people to the verge of famine in the eastern suburbs of Damascus, residents and aid workers say, bringing desperation to the only major rebel enclave near the Syrian capital. Cases of malnutrition among children have almost doubled in the last two months at one clinic in the suburbs, which have been under siege by Syrian government forces since 2013 but come under new pressure this year as tunnels used to smuggle in food have been cut off.   The child that we consider normal in Ghouta is the child whose weight is on the lowest end of the normal weight scale. We don t have fully healthy children. The main reason is the lack of food and nutrition,  said Dr Amani Ballour, a paediatrician.  There are children who we previously classified as at risk of malnutrition, who are now classified as medium-level acute malnutrition or extreme-level acute malnutrition cases.     At two and a half years old, Hala al-Nufi weighs less than five kilos (12 pounds). She suffers from a metabolic disorder, but a lack of adequate food has made the case extreme. Hala, her eyes hollow and her translucent skin stretching over her tiny bones, had gotten sicker in recent months, her parents said. They worry she will not survive the siege. Um Said, a mother of six, says she is too hungry to breast feed her six-month-old twins, Marwa and Safa.  I put the child to the breast, but there is no milk. I am not eating. I slept without supper last night,  she said.  Sometimes I hit myself against the wall,  she said.  For God s, sake open the road. In the name of the prophet, I kiss your hands and feet, open the road for us. We are going to die of hunger. We are eating from the trash bins.  At least 1,200 children in eastern Ghouta suffer from malnutrition, on the rise with 1,500 others at risk, a spokeswoman for the U.N. children s agency UNICEF said.  We could be at the doors of starvation, of a medical catastrophe,  said health worker Mahmoud al-Sheikh. He said children were not yet dying of hunger but could be soon.  God help the people in the coming time.  The army s advances in recent months have shrunk the rebel-held pocket in the densely populated area of satellite towns and farms east of the capital. Food, fuel and medicine once traveled across frontlines into the suburbs through a network of underground tunnels. But early this year, an army offensive nearby cut smuggling routes that provided a lifeline for around 300,000 people in the enclave. Supplies have barely entered in months. Shortages have sent prices soaring even higher. Residents and local aid workers say they fear the worst if nothing changes when the cold arrives and stocks run out. A kilogram of sugar now costs more than 5,000 Syrian pounds ($10.81 dollars), roughly 14 times the state-regulated price in nearby Damascus. Two malnourished babies died this week after the siege aggravated their illnesses, a local official said. Photos of one of them   a skeletal baby girl   brought widespread attention to a crisis that has been growing there for months. Linda Tom, a spokeswoman for the U.N. humanitarian affairs office (OCHA) in Syria, said the one-month-old girl, Sahar, had congenital abnormalities. Hunger worsened her condition, and the baby died of pneumonia.  Through a series of offensives and evacuation deals, the Damascus government has defeated opposition pockets around the capital. Eastern Ghouta has held out, but residents say there is now talk for the first time of agreeing to evacuate.  People are under pressure, they will erupt. There is no baby milk at all. Mothers and fathers are watching their children go hungry. They want a solution in any way, at any price,  said Adnan, 30, who runs a local aid group. Families relied on crops they harvested in the summer, and meagre food distributions from warehouses run by the opposition government based in Turkey, he said. Adnan s group had preserved and dried vegetables that it will distribute to 1,500 families next week, but besides that, its food aid has halted.  Even if I get funding, there are no goods to buy,  he said.  The eastern Ghouta has shut down. There is a state of paralysis.  The Wafideen crossing at the outskirts, where checkpoints allowed some goods to enter, has also been heavily restricted or shut, the U.N. and residents said. Only two aid convoys have reached the Ghouta since July, each with food and medicine for about 20 percent or less of the population.  In July, Moscow and rebels in the Ghouta signed a ceasefire that had sparked hopes of opening crossings and aid flowing into the suburbs. But residents say none of that has materialized. The  de-escalation  deal reduced the barrage of air strikes and artillery, but the siege only got harsher, they said. Fierce ground battles also rage on in some frontline districts. When people in the Ghouta learned of the deal and thought it would bring relief, many began using up their food reserves at home, said Khalil Aybour, head of the local council in the town of Douma.  After they saw it was all rumors,  he said,  the misery grew immensely.                                                                                                                                                                                                                                                                                                                                                                                                                                                                                                                                                                                                                                                                                                                                                                                                                                                                                                                                                                                                                                                                                                                                                                                                                                                                                                                                                                                                                                                                                                                                                                                                                                                                                                                                                                                                                         worldnews     October 27, 2017      1\n",
      "'Ashamed' Franken says he won't quit Senate over groping accusations             (Reuters) - U.S. Senator Al Franken, trying to salvage his political career amid accusations of groping or inappropriately touching women, said on Sunday he does not plan to resign but called himself “embarrassed and ashamed.” Franken, a Democrat and former comedian who has represented Minnesota in the Senate since 2009, said in a round of media interviews - his first since the allegations surfaced on Nov. 16 - that he looked forward to returning to his job on Monday. “I’m embarrassed and ashamed. I’ve let a lot of people down and I’m hoping I can make it up to them and gradually regain their trust,” Franken told the Minneapolis Star Tribune. Franken resisted comparisons between his behavior and that of Roy Moore, the Republican nominee for a U.S. Senate seat from Alabama who has been accused of improper conduct involving teenage girls decades ago.  “I’m going to take responsibility. I’m going to be held accountable through the ethics committee,” said Franken, whose behavior is being investigated by the Senate ethics panel. “And I’m going to hopefully be a voice in this that is helpful... Again, I respect women. What kills me about this is it gives people a reason to believe I don’t respect women.” Franken told Minneapolis television station WCCO in another interview that his predicament was “a bitter irony” because he has championed women’s’ issues and has employed them in both his campaign and Senate offices. “I’ve put them (women) in the highest jobs in my office,” he said. In a separate interview with Minnesota Public Radio, Franken, one of the leading liberal voices in the Senate, said has no plans to quit. When asked if he had considered resigning, Franken said: “No, no. The ethics committee is looking into this and I will cooperate fully with it.” Pressed about stepping aside and allowing a woman to take his seat, Franken told Minnesota Public Radio, “I’m committed to working as hard as I can here in the Senate for the people of Minnesota.” Franken’s office had previously issued statements in which he either apologized or said he could not remember behaving in the manner the women have described. He has not denied any of the allegations. Franken was first accused of sexual misconduct by radio broadcaster Leann Tweeden. She said Franken had forcibly kissed her during a 2006 USO war zone tour, and a photo showed him with his hands over her chest while she was sleeping. Four days later, a woman named Lindsay Menz told CNN that Franken had touched her buttocks while the two were being photographed in 2010 at the Minnesota State Fair. Franken has apologized to Tweeden, and has said he does not remember the incident with Menz. Last week, two other women told the Huffington Post Franken had touched their buttocks in separate incidents. The article did not provide the names of those two accusers. “I don’t remember these photographs, I don’t,” Franken told the Star Tribune. “This is not something I would intentionally do.” “I have been reflecting on this,” Franken told Minnesota Public Radio of the allegations. “I want to be a better man.” Franken is among a long list of celebrities and politicians who have been accused of sexual misconduct. The recent wave of accusations, some of them dating back decades, began in October.                                                                                                                                                                                                                                                                                                                                                                                                                                                                                                                                                                                                                                                                                                                                                                                                                                                                                                                                                                                                                                                                                                                                                                                                                                                                                                                                                                                                                                                                                                                                                                                                                                                                                                                                                                                                                                                                                                                                                                                                                                                                                                                                                                                                                                                                                                                                                                                                                                                                                                                                                                                                                                                                                                                                                                                                                                                                                                                                                                                                                                                                                                                                                                                                                                                                                                                                                                                                                                                                                                                                                                                                                                                                                                                                                          politicsNews  November 26, 2017     1\n",
      "Name: count, Length: 21211, dtype: int64>\n"
     ]
    }
   ],
   "source": [
    "print(df_fake.value_counts().sum)\n",
    "print(df_true.value_counts().sum)"
   ]
  },
  {
   "cell_type": "code",
   "execution_count": 8,
   "id": "90eee79a",
   "metadata": {},
   "outputs": [],
   "source": [
    "df_fake['class'] = 0\n",
    "df_true['class'] = 1"
   ]
  },
  {
   "cell_type": "code",
   "execution_count": 9,
   "id": "6eba1334",
   "metadata": {},
   "outputs": [],
   "source": [
    "df_true_manual = df_true.tail(10)\n",
    "df_fake_manual = df_fake.tail(10)\n",
    "\n",
    "for i in range(21211, 21201,-1):\n",
    "    df_true.drop([i], axis=0, inplace=True)\n",
    "\n",
    "for j in range(23478, 23468,-1):\n",
    "    df_fake.drop([j], axis=0, inplace=True)"
   ]
  },
  {
   "cell_type": "code",
   "execution_count": 10,
   "id": "f8cec6d0",
   "metadata": {},
   "outputs": [
    {
     "name": "stderr",
     "output_type": "stream",
     "text": [
      "C:\\Users\\Rouhan\\AppData\\Local\\Temp\\ipykernel_21016\\716737122.py:1: SettingWithCopyWarning: \n",
      "A value is trying to be set on a copy of a slice from a DataFrame.\n",
      "Try using .loc[row_indexer,col_indexer] = value instead\n",
      "\n",
      "See the caveats in the documentation: https://pandas.pydata.org/pandas-docs/stable/user_guide/indexing.html#returning-a-view-versus-a-copy\n",
      "  df_fake_manual[\"class\"] = 0\n",
      "C:\\Users\\Rouhan\\AppData\\Local\\Temp\\ipykernel_21016\\716737122.py:2: SettingWithCopyWarning: \n",
      "A value is trying to be set on a copy of a slice from a DataFrame.\n",
      "Try using .loc[row_indexer,col_indexer] = value instead\n",
      "\n",
      "See the caveats in the documentation: https://pandas.pydata.org/pandas-docs/stable/user_guide/indexing.html#returning-a-view-versus-a-copy\n",
      "  df_true_manual[\"class\"] = 1\n"
     ]
    }
   ],
   "source": [
    "df_fake_manual[\"class\"] = 0\n",
    "df_true_manual[\"class\"] = 1"
   ]
  },
  {
   "cell_type": "code",
   "execution_count": 11,
   "id": "b58c19d1",
   "metadata": {},
   "outputs": [],
   "source": [
    "df_manual = pd.concat([df_fake_manual, df_true_manual], axis=0)\n",
    "df_manual.to_csv(\"manual_testing.csv\")"
   ]
  },
  {
   "cell_type": "code",
   "execution_count": 12,
   "id": "0710699f",
   "metadata": {},
   "outputs": [
    {
     "data": {
      "text/html": [
       "<div>\n",
       "<style scoped>\n",
       "    .dataframe tbody tr th:only-of-type {\n",
       "        vertical-align: middle;\n",
       "    }\n",
       "\n",
       "    .dataframe tbody tr th {\n",
       "        vertical-align: top;\n",
       "    }\n",
       "\n",
       "    .dataframe thead th {\n",
       "        text-align: right;\n",
       "    }\n",
       "</style>\n",
       "<table border=\"1\" class=\"dataframe\">\n",
       "  <thead>\n",
       "    <tr style=\"text-align: right;\">\n",
       "      <th></th>\n",
       "      <th>title</th>\n",
       "      <th>text</th>\n",
       "      <th>subject</th>\n",
       "      <th>date</th>\n",
       "      <th>class</th>\n",
       "    </tr>\n",
       "  </thead>\n",
       "  <tbody>\n",
       "    <tr>\n",
       "      <th>0</th>\n",
       "      <td>Donald Trump Sends Out Embarrassing New Year’...</td>\n",
       "      <td>Donald Trump just couldn t wish all Americans ...</td>\n",
       "      <td>News</td>\n",
       "      <td>December 31, 2017</td>\n",
       "      <td>0</td>\n",
       "    </tr>\n",
       "    <tr>\n",
       "      <th>1</th>\n",
       "      <td>Drunk Bragging Trump Staffer Started Russian ...</td>\n",
       "      <td>House Intelligence Committee Chairman Devin Nu...</td>\n",
       "      <td>News</td>\n",
       "      <td>December 31, 2017</td>\n",
       "      <td>0</td>\n",
       "    </tr>\n",
       "    <tr>\n",
       "      <th>2</th>\n",
       "      <td>Sheriff David Clarke Becomes An Internet Joke...</td>\n",
       "      <td>On Friday, it was revealed that former Milwauk...</td>\n",
       "      <td>News</td>\n",
       "      <td>December 30, 2017</td>\n",
       "      <td>0</td>\n",
       "    </tr>\n",
       "    <tr>\n",
       "      <th>3</th>\n",
       "      <td>Trump Is So Obsessed He Even Has Obama’s Name...</td>\n",
       "      <td>On Christmas day, Donald Trump announced that ...</td>\n",
       "      <td>News</td>\n",
       "      <td>December 29, 2017</td>\n",
       "      <td>0</td>\n",
       "    </tr>\n",
       "    <tr>\n",
       "      <th>4</th>\n",
       "      <td>Pope Francis Just Called Out Donald Trump Dur...</td>\n",
       "      <td>Pope Francis used his annual Christmas Day mes...</td>\n",
       "      <td>News</td>\n",
       "      <td>December 25, 2017</td>\n",
       "      <td>0</td>\n",
       "    </tr>\n",
       "    <tr>\n",
       "      <th>5</th>\n",
       "      <td>Racist Alabama Cops Brutalize Black Boy While...</td>\n",
       "      <td>The number of cases of cops brutalizing and ki...</td>\n",
       "      <td>News</td>\n",
       "      <td>December 25, 2017</td>\n",
       "      <td>0</td>\n",
       "    </tr>\n",
       "    <tr>\n",
       "      <th>6</th>\n",
       "      <td>Fresh Off The Golf Course, Trump Lashes Out A...</td>\n",
       "      <td>Donald Trump spent a good portion of his day a...</td>\n",
       "      <td>News</td>\n",
       "      <td>December 23, 2017</td>\n",
       "      <td>0</td>\n",
       "    </tr>\n",
       "    <tr>\n",
       "      <th>7</th>\n",
       "      <td>Trump Said Some INSANELY Racist Stuff Inside ...</td>\n",
       "      <td>In the wake of yet another court decision that...</td>\n",
       "      <td>News</td>\n",
       "      <td>December 23, 2017</td>\n",
       "      <td>0</td>\n",
       "    </tr>\n",
       "    <tr>\n",
       "      <th>8</th>\n",
       "      <td>Former CIA Director Slams Trump Over UN Bully...</td>\n",
       "      <td>Many people have raised the alarm regarding th...</td>\n",
       "      <td>News</td>\n",
       "      <td>December 22, 2017</td>\n",
       "      <td>0</td>\n",
       "    </tr>\n",
       "    <tr>\n",
       "      <th>9</th>\n",
       "      <td>WATCH: Brand-New Pro-Trump Ad Features So Muc...</td>\n",
       "      <td>Just when you might have thought we d get a br...</td>\n",
       "      <td>News</td>\n",
       "      <td>December 21, 2017</td>\n",
       "      <td>0</td>\n",
       "    </tr>\n",
       "  </tbody>\n",
       "</table>\n",
       "</div>"
      ],
      "text/plain": [
       "                                               title  \\\n",
       "0   Donald Trump Sends Out Embarrassing New Year’...   \n",
       "1   Drunk Bragging Trump Staffer Started Russian ...   \n",
       "2   Sheriff David Clarke Becomes An Internet Joke...   \n",
       "3   Trump Is So Obsessed He Even Has Obama’s Name...   \n",
       "4   Pope Francis Just Called Out Donald Trump Dur...   \n",
       "5   Racist Alabama Cops Brutalize Black Boy While...   \n",
       "6   Fresh Off The Golf Course, Trump Lashes Out A...   \n",
       "7   Trump Said Some INSANELY Racist Stuff Inside ...   \n",
       "8   Former CIA Director Slams Trump Over UN Bully...   \n",
       "9   WATCH: Brand-New Pro-Trump Ad Features So Muc...   \n",
       "\n",
       "                                                text subject  \\\n",
       "0  Donald Trump just couldn t wish all Americans ...    News   \n",
       "1  House Intelligence Committee Chairman Devin Nu...    News   \n",
       "2  On Friday, it was revealed that former Milwauk...    News   \n",
       "3  On Christmas day, Donald Trump announced that ...    News   \n",
       "4  Pope Francis used his annual Christmas Day mes...    News   \n",
       "5  The number of cases of cops brutalizing and ki...    News   \n",
       "6  Donald Trump spent a good portion of his day a...    News   \n",
       "7  In the wake of yet another court decision that...    News   \n",
       "8  Many people have raised the alarm regarding th...    News   \n",
       "9  Just when you might have thought we d get a br...    News   \n",
       "\n",
       "                date  class  \n",
       "0  December 31, 2017      0  \n",
       "1  December 31, 2017      0  \n",
       "2  December 30, 2017      0  \n",
       "3  December 29, 2017      0  \n",
       "4  December 25, 2017      0  \n",
       "5  December 25, 2017      0  \n",
       "6  December 23, 2017      0  \n",
       "7  December 23, 2017      0  \n",
       "8  December 22, 2017      0  \n",
       "9  December 21, 2017      0  "
      ]
     },
     "execution_count": 12,
     "metadata": {},
     "output_type": "execute_result"
    }
   ],
   "source": [
    "df_merge = pd.concat([df_fake, df_true], axis=0)\n",
    "df_merge.head(10)"
   ]
  },
  {
   "cell_type": "code",
   "execution_count": 13,
   "id": "17c2a123",
   "metadata": {},
   "outputs": [],
   "source": [
    "df = df_merge.drop([\"title\", \"subject\",\"date\"], axis = 1)\n"
   ]
  },
  {
   "cell_type": "code",
   "execution_count": 14,
   "id": "1a92bd15",
   "metadata": {},
   "outputs": [
    {
     "data": {
      "text/plain": [
       "text     0\n",
       "class    0\n",
       "dtype: int64"
      ]
     },
     "execution_count": 14,
     "metadata": {},
     "output_type": "execute_result"
    }
   ],
   "source": [
    "df.isnull().sum()"
   ]
  },
  {
   "cell_type": "code",
   "execution_count": 15,
   "id": "f586d670",
   "metadata": {},
   "outputs": [
    {
     "data": {
      "text/html": [
       "<div>\n",
       "<style scoped>\n",
       "    .dataframe tbody tr th:only-of-type {\n",
       "        vertical-align: middle;\n",
       "    }\n",
       "\n",
       "    .dataframe tbody tr th {\n",
       "        vertical-align: top;\n",
       "    }\n",
       "\n",
       "    .dataframe thead th {\n",
       "        text-align: right;\n",
       "    }\n",
       "</style>\n",
       "<table border=\"1\" class=\"dataframe\">\n",
       "  <thead>\n",
       "    <tr style=\"text-align: right;\">\n",
       "      <th></th>\n",
       "      <th>text</th>\n",
       "      <th>class</th>\n",
       "    </tr>\n",
       "  </thead>\n",
       "  <tbody>\n",
       "    <tr>\n",
       "      <th>16136</th>\n",
       "      <td>KUWAIT (Reuters) - Kuwait s ruling emir accept...</td>\n",
       "      <td>1</td>\n",
       "    </tr>\n",
       "    <tr>\n",
       "      <th>6600</th>\n",
       "      <td>WASHINGTON (Reuters) - Kellyanne Conway, a Rep...</td>\n",
       "      <td>1</td>\n",
       "    </tr>\n",
       "    <tr>\n",
       "      <th>16868</th>\n",
       "      <td>BRUSSELS (Reuters) - British Prime Minister Th...</td>\n",
       "      <td>1</td>\n",
       "    </tr>\n",
       "    <tr>\n",
       "      <th>23321</th>\n",
       "      <td>21st Century Wire says What a twisted world we...</td>\n",
       "      <td>0</td>\n",
       "    </tr>\n",
       "    <tr>\n",
       "      <th>15724</th>\n",
       "      <td>Nothing to see here just Obama evening the pla...</td>\n",
       "      <td>0</td>\n",
       "    </tr>\n",
       "  </tbody>\n",
       "</table>\n",
       "</div>"
      ],
      "text/plain": [
       "                                                    text  class\n",
       "16136  KUWAIT (Reuters) - Kuwait s ruling emir accept...      1\n",
       "6600   WASHINGTON (Reuters) - Kellyanne Conway, a Rep...      1\n",
       "16868  BRUSSELS (Reuters) - British Prime Minister Th...      1\n",
       "23321  21st Century Wire says What a twisted world we...      0\n",
       "15724  Nothing to see here just Obama evening the pla...      0"
      ]
     },
     "execution_count": 15,
     "metadata": {},
     "output_type": "execute_result"
    }
   ],
   "source": [
    "df = df.sample(frac = 1)\n",
    "df.head()"
   ]
  },
  {
   "cell_type": "code",
   "execution_count": 16,
   "id": "4fda0cce",
   "metadata": {},
   "outputs": [],
   "source": [
    "df.reset_index(inplace = True)\n",
    "df.drop([\"index\"], axis = 1, inplace = True)"
   ]
  },
  {
   "cell_type": "code",
   "execution_count": 17,
   "id": "1f00fe48",
   "metadata": {},
   "outputs": [
    {
     "name": "stdout",
     "output_type": "stream",
     "text": [
      "Requirement already satisfied: pip in c:\\users\\rouhan\\appdata\\local\\programs\\python\\python313\\lib\\site-packages (25.2)\n",
      "Requirement already satisfied: gensim in c:\\users\\rouhan\\appdata\\local\\programs\\python\\python313\\lib\\site-packages (4.4.0)\n",
      "Requirement already satisfied: numpy>=1.18.5 in c:\\users\\rouhan\\appdata\\local\\programs\\python\\python313\\lib\\site-packages (from gensim) (2.1.3)\n",
      "Requirement already satisfied: scipy>=1.7.0 in c:\\users\\rouhan\\appdata\\local\\programs\\python\\python313\\lib\\site-packages (from gensim) (1.15.2)\n",
      "Requirement already satisfied: smart_open>=1.8.1 in c:\\users\\rouhan\\appdata\\local\\programs\\python\\python313\\lib\\site-packages (from gensim) (7.3.1)\n",
      "Requirement already satisfied: wrapt in c:\\users\\rouhan\\appdata\\local\\programs\\python\\python313\\lib\\site-packages (from smart_open>=1.8.1->gensim) (1.17.3)\n"
     ]
    }
   ],
   "source": [
    "import sys\n",
    "!{sys.executable} -m pip install --upgrade pip\n",
    "!{sys.executable} -m pip install gensim"
   ]
  },
  {
   "cell_type": "code",
   "execution_count": 18,
   "id": "12ea306d",
   "metadata": {},
   "outputs": [],
   "source": [
    "import nltk\n",
    "from nltk.corpus import stopwords\n",
    "nltk.download('stopwords', quiet=True)\n",
    "nltk.download('punkt', quiet=True)   # required by word_tokenize\n",
    "STOP_WORDS = set(stopwords.words('english'))\n",
    "from nltk.tokenize import word_tokenize\n",
    "import re\n",
    "import gensim "
   ]
  },
  {
   "cell_type": "code",
   "execution_count": 19,
   "id": "fc832099",
   "metadata": {},
   "outputs": [],
   "source": [
    "def preprocess(text):\n",
    "    if isinstance(text, str):\n",
    "        text = text.lower()\n",
    "        text = re.sub(r'[^\\w\\s]', '', text)\n",
    "        tokens = word_tokenize(text)\n",
    "        tokens = [w for w in tokens if w not in STOP_WORDS]\n",
    "        return tokens\n",
    "    return []"
   ]
  },
  {
   "cell_type": "code",
   "execution_count": 20,
   "id": "c1c3c4ea",
   "metadata": {},
   "outputs": [
    {
     "name": "stdout",
     "output_type": "stream",
     "text": [
      "0        Donald Trump just couldn t wish all Americans ...\n",
      "1        House Intelligence Committee Chairman Devin Nu...\n",
      "2        On Friday, it was revealed that former Milwauk...\n",
      "3        On Christmas day, Donald Trump announced that ...\n",
      "4        Pope Francis used his annual Christmas Day mes...\n",
      "                               ...                        \n",
      "21412    BRUSSELS (Reuters) - NATO allies on Tuesday we...\n",
      "21413    LONDON (Reuters) - LexisNexis, a provider of l...\n",
      "21414    MINSK (Reuters) - In the shadow of disused Sov...\n",
      "21415    MOSCOW (Reuters) - Vatican Secretary of State ...\n",
      "21416    JAKARTA (Reuters) - Indonesia will buy 11 Sukh...\n",
      "Name: text, Length: 44669, dtype: object\n"
     ]
    },
    {
     "data": {
      "text/html": [
       "<div>\n",
       "<style scoped>\n",
       "    .dataframe tbody tr th:only-of-type {\n",
       "        vertical-align: middle;\n",
       "    }\n",
       "\n",
       "    .dataframe tbody tr th {\n",
       "        vertical-align: top;\n",
       "    }\n",
       "\n",
       "    .dataframe thead th {\n",
       "        text-align: right;\n",
       "    }\n",
       "</style>\n",
       "<table border=\"1\" class=\"dataframe\">\n",
       "  <thead>\n",
       "    <tr style=\"text-align: right;\">\n",
       "      <th></th>\n",
       "      <th>text</th>\n",
       "      <th>processed_text</th>\n",
       "    </tr>\n",
       "  </thead>\n",
       "  <tbody>\n",
       "    <tr>\n",
       "      <th>0</th>\n",
       "      <td>Donald Trump just couldn t wish all Americans ...</td>\n",
       "      <td>[donald, trump, wish, americans, happy, new, y...</td>\n",
       "    </tr>\n",
       "    <tr>\n",
       "      <th>1</th>\n",
       "      <td>House Intelligence Committee Chairman Devin Nu...</td>\n",
       "      <td>[house, intelligence, committee, chairman, dev...</td>\n",
       "    </tr>\n",
       "    <tr>\n",
       "      <th>2</th>\n",
       "      <td>On Friday, it was revealed that former Milwauk...</td>\n",
       "      <td>[friday, revealed, former, milwaukee, sheriff,...</td>\n",
       "    </tr>\n",
       "    <tr>\n",
       "      <th>3</th>\n",
       "      <td>On Christmas day, Donald Trump announced that ...</td>\n",
       "      <td>[christmas, day, donald, trump, announced, wou...</td>\n",
       "    </tr>\n",
       "    <tr>\n",
       "      <th>4</th>\n",
       "      <td>Pope Francis used his annual Christmas Day mes...</td>\n",
       "      <td>[pope, francis, used, annual, christmas, day, ...</td>\n",
       "    </tr>\n",
       "  </tbody>\n",
       "</table>\n",
       "</div>"
      ],
      "text/plain": [
       "                                                text  \\\n",
       "0  Donald Trump just couldn t wish all Americans ...   \n",
       "1  House Intelligence Committee Chairman Devin Nu...   \n",
       "2  On Friday, it was revealed that former Milwauk...   \n",
       "3  On Christmas day, Donald Trump announced that ...   \n",
       "4  Pope Francis used his annual Christmas Day mes...   \n",
       "\n",
       "                                      processed_text  \n",
       "0  [donald, trump, wish, americans, happy, new, y...  \n",
       "1  [house, intelligence, committee, chairman, dev...  \n",
       "2  [friday, revealed, former, milwaukee, sheriff,...  \n",
       "3  [christmas, day, donald, trump, announced, wou...  \n",
       "4  [pope, francis, used, annual, christmas, day, ...  "
      ]
     },
     "execution_count": 20,
     "metadata": {},
     "output_type": "execute_result"
    }
   ],
   "source": [
    "print(df_merge['text'])\n",
    "df_merge['processed_text'] = df_merge['text'].apply(preprocess)\n",
    "df_merge[['text', 'processed_text']].head()"
   ]
  },
  {
   "cell_type": "code",
   "execution_count": 21,
   "id": "96de1b64",
   "metadata": {},
   "outputs": [
    {
     "name": "stdout",
     "output_type": "stream",
     "text": [
      "Generating document vectors...\n",
      "Document vector generation complete.\n",
      "0        [0.07583403320242546, 0.04187698843753267, 0.0...\n",
      "1        [0.04695818875510202, 0.13540242544137115, 0.0...\n",
      "2        [0.004362303456679608, 0.08245044836541637, 0....\n",
      "3        [0.08746129379236722, 0.15563484383046597, 0.0...\n",
      "4        [-0.0026560557163542225, 0.025955445346854893,...\n",
      "                               ...                        \n",
      "21412    [0.15280790730502528, 0.1473945954979292, 0.04...\n",
      "21413    [0.042486393289338495, 0.13626204154393604, 0....\n",
      "21414    [-0.018041047070062523, 0.060838847229200785, ...\n",
      "21415    [0.016266909195110202, 0.07864857869621335, 0....\n",
      "21416    [0.04427956897082902, 0.1890925298945246, 0.03...\n",
      "Name: document_vector, Length: 44669, dtype: object\n",
      "\n",
      "--- Data Type Check ---\n",
      "Data type of the first entry: <class 'numpy.ndarray'>\n"
     ]
    }
   ],
   "source": [
    "from gensim.models import Word2Vec\n",
    "EMBEDDING_DIM = 100\n",
    "WINDOW_SIZE = 10\n",
    "MIN_WORD_COUNT = 5\n",
    "SG_MODEL = 1\n",
    "\n",
    "corpus = df_merge['processed_text'].tolist()\n",
    "word2vec_model = Word2Vec(\n",
    "    sentences=corpus, \n",
    "    vector_size=EMBEDDING_DIM,\n",
    "    window=WINDOW_SIZE,        \n",
    "    min_count=MIN_WORD_COUNT,  \n",
    "    sg=SG_MODEL,\n",
    "    workers=4  # Set based on your CPU cores for faster training\n",
    ")\n",
    "def get_document_vector(word_list, model, vector_size):\n",
    "    \"\"\"Calculates the average Word2Vec vector for a document.\"\"\"\n",
    "    \n",
    "    # Initialize a zero vector\n",
    "    vector = np.zeros(vector_size)\n",
    "    word_count = 0\n",
    "    \n",
    "    # Get the WordVector (wv) component for fast lookups\n",
    "    wv = model.wv\n",
    "\n",
    "    # Sum vectors for all words in the document that are in the model's vocabulary\n",
    "    for word in word_list:\n",
    "        if word in wv:\n",
    "            vector += wv[word]\n",
    "            word_count += 1\n",
    "    \n",
    "    # Calculate the average vector\n",
    "    if word_count > 0:\n",
    "        vector = vector / word_count\n",
    "    \n",
    "    return vector\n",
    "\n",
    "# Apply the function to create the new feature column\n",
    "print(\"Generating document vectors...\")\n",
    "df_merge['document_vector'] = df_merge['processed_text'].apply(\n",
    "    lambda x: get_document_vector(x, word2vec_model, EMBEDDING_DIM)\n",
    ")\n",
    "\n",
    "print(\"Document vector generation complete.\")\n",
    "print(df_merge['document_vector'])\n",
    "first_vector = df_merge['document_vector'].iloc[0]\n",
    "print(\"\\n--- Data Type Check ---\")\n",
    "print(f\"Data type of the first entry: {type(first_vector)}\")"
   ]
  },
  {
   "cell_type": "code",
   "execution_count": 30,
   "id": "8b464f46",
   "metadata": {},
   "outputs": [],
   "source": [
    "word2vec_model.save(\"word2vec_model.model\")\n"
   ]
  },
  {
   "cell_type": "code",
   "execution_count": 22,
   "id": "db5b46ae",
   "metadata": {},
   "outputs": [
    {
     "name": "stdout",
     "output_type": "stream",
     "text": [
      "Shape of Feature Matrix (X): (44669, 100)\n",
      "Shape of Target Vector (Y): (44669,)\n"
     ]
    }
   ],
   "source": [
    "# Create the feature matrix X by vertically stacking the document vectors\n",
    "# np.vstack ensures all document vectors form a single NumPy array\n",
    "X = np.vstack(df_merge['document_vector'].values)\n",
    "\n",
    "# Assume your binary label is in a column named 'label' (0 for fake, 1 for true)\n",
    "Y = df_merge['class'].values\n",
    "\n",
    "# Check the final shapes\n",
    "print(f\"Shape of Feature Matrix (X): {X.shape}\") \n",
    "print(f\"Shape of Target Vector (Y): {Y.shape}\")"
   ]
  },
  {
   "cell_type": "code",
   "execution_count": 23,
   "id": "57ec72d7",
   "metadata": {},
   "outputs": [
    {
     "name": "stdout",
     "output_type": "stream",
     "text": [
      "Total training samples: 35735\n",
      "Total testing samples: 8934\n"
     ]
    }
   ],
   "source": [
    "X_train, X_test, Y_train, Y_test = train_test_split(\n",
    "    X, \n",
    "    Y, \n",
    "    test_size=0.2,   # Use 20% of the data for testing\n",
    "    random_state=42, # Ensures the split is the same every time for reproducibility\n",
    "    stratify=Y       # Highly recommended for classification: keeps the ratio of 0s and 1s the same in both sets\n",
    ")\n",
    "\n",
    "print(f\"Total training samples: {len(X_train)}\")\n",
    "print(f\"Total testing samples: {len(X_test)}\")"
   ]
  },
  {
   "cell_type": "code",
   "execution_count": 24,
   "id": "250cd279",
   "metadata": {},
   "outputs": [
    {
     "name": "stderr",
     "output_type": "stream",
     "text": [
      "c:\\Users\\Rouhan\\AppData\\Local\\Programs\\Python\\Python313\\Lib\\site-packages\\keras\\src\\layers\\core\\dense.py:92: UserWarning: Do not pass an `input_shape`/`input_dim` argument to a layer. When using Sequential models, prefer using an `Input(shape)` object as the first layer in the model instead.\n",
      "  super().__init__(activity_regularizer=activity_regularizer, **kwargs)\n"
     ]
    },
    {
     "data": {
      "text/html": [
       "<pre style=\"white-space:pre;overflow-x:auto;line-height:normal;font-family:Menlo,'DejaVu Sans Mono',consolas,'Courier New',monospace\"><span style=\"font-weight: bold\">Model: \"sequential\"</span>\n",
       "</pre>\n"
      ],
      "text/plain": [
       "\u001b[1mModel: \"sequential\"\u001b[0m\n"
      ]
     },
     "metadata": {},
     "output_type": "display_data"
    },
    {
     "data": {
      "text/html": [
       "<pre style=\"white-space:pre;overflow-x:auto;line-height:normal;font-family:Menlo,'DejaVu Sans Mono',consolas,'Courier New',monospace\">┏━━━━━━━━━━━━━━━━━━━━━━━━━━━━━━━━━┳━━━━━━━━━━━━━━━━━━━━━━━━┳━━━━━━━━━━━━━━━┓\n",
       "┃<span style=\"font-weight: bold\"> Layer (type)                    </span>┃<span style=\"font-weight: bold\"> Output Shape           </span>┃<span style=\"font-weight: bold\">       Param # </span>┃\n",
       "┡━━━━━━━━━━━━━━━━━━━━━━━━━━━━━━━━━╇━━━━━━━━━━━━━━━━━━━━━━━━╇━━━━━━━━━━━━━━━┩\n",
       "│ dense (<span style=\"color: #0087ff; text-decoration-color: #0087ff\">Dense</span>)                   │ (<span style=\"color: #00d7ff; text-decoration-color: #00d7ff\">None</span>, <span style=\"color: #00af00; text-decoration-color: #00af00\">128</span>)            │        <span style=\"color: #00af00; text-decoration-color: #00af00\">12,928</span> │\n",
       "├─────────────────────────────────┼────────────────────────┼───────────────┤\n",
       "│ dropout (<span style=\"color: #0087ff; text-decoration-color: #0087ff\">Dropout</span>)               │ (<span style=\"color: #00d7ff; text-decoration-color: #00d7ff\">None</span>, <span style=\"color: #00af00; text-decoration-color: #00af00\">128</span>)            │             <span style=\"color: #00af00; text-decoration-color: #00af00\">0</span> │\n",
       "├─────────────────────────────────┼────────────────────────┼───────────────┤\n",
       "│ dense_1 (<span style=\"color: #0087ff; text-decoration-color: #0087ff\">Dense</span>)                 │ (<span style=\"color: #00d7ff; text-decoration-color: #00d7ff\">None</span>, <span style=\"color: #00af00; text-decoration-color: #00af00\">64</span>)             │         <span style=\"color: #00af00; text-decoration-color: #00af00\">8,256</span> │\n",
       "├─────────────────────────────────┼────────────────────────┼───────────────┤\n",
       "│ dense_2 (<span style=\"color: #0087ff; text-decoration-color: #0087ff\">Dense</span>)                 │ (<span style=\"color: #00d7ff; text-decoration-color: #00d7ff\">None</span>, <span style=\"color: #00af00; text-decoration-color: #00af00\">1</span>)              │            <span style=\"color: #00af00; text-decoration-color: #00af00\">65</span> │\n",
       "└─────────────────────────────────┴────────────────────────┴───────────────┘\n",
       "</pre>\n"
      ],
      "text/plain": [
       "┏━━━━━━━━━━━━━━━━━━━━━━━━━━━━━━━━━┳━━━━━━━━━━━━━━━━━━━━━━━━┳━━━━━━━━━━━━━━━┓\n",
       "┃\u001b[1m \u001b[0m\u001b[1mLayer (type)                   \u001b[0m\u001b[1m \u001b[0m┃\u001b[1m \u001b[0m\u001b[1mOutput Shape          \u001b[0m\u001b[1m \u001b[0m┃\u001b[1m \u001b[0m\u001b[1m      Param #\u001b[0m\u001b[1m \u001b[0m┃\n",
       "┡━━━━━━━━━━━━━━━━━━━━━━━━━━━━━━━━━╇━━━━━━━━━━━━━━━━━━━━━━━━╇━━━━━━━━━━━━━━━┩\n",
       "│ dense (\u001b[38;5;33mDense\u001b[0m)                   │ (\u001b[38;5;45mNone\u001b[0m, \u001b[38;5;34m128\u001b[0m)            │        \u001b[38;5;34m12,928\u001b[0m │\n",
       "├─────────────────────────────────┼────────────────────────┼───────────────┤\n",
       "│ dropout (\u001b[38;5;33mDropout\u001b[0m)               │ (\u001b[38;5;45mNone\u001b[0m, \u001b[38;5;34m128\u001b[0m)            │             \u001b[38;5;34m0\u001b[0m │\n",
       "├─────────────────────────────────┼────────────────────────┼───────────────┤\n",
       "│ dense_1 (\u001b[38;5;33mDense\u001b[0m)                 │ (\u001b[38;5;45mNone\u001b[0m, \u001b[38;5;34m64\u001b[0m)             │         \u001b[38;5;34m8,256\u001b[0m │\n",
       "├─────────────────────────────────┼────────────────────────┼───────────────┤\n",
       "│ dense_2 (\u001b[38;5;33mDense\u001b[0m)                 │ (\u001b[38;5;45mNone\u001b[0m, \u001b[38;5;34m1\u001b[0m)              │            \u001b[38;5;34m65\u001b[0m │\n",
       "└─────────────────────────────────┴────────────────────────┴───────────────┘\n"
      ]
     },
     "metadata": {},
     "output_type": "display_data"
    },
    {
     "data": {
      "text/html": [
       "<pre style=\"white-space:pre;overflow-x:auto;line-height:normal;font-family:Menlo,'DejaVu Sans Mono',consolas,'Courier New',monospace\"><span style=\"font-weight: bold\"> Total params: </span><span style=\"color: #00af00; text-decoration-color: #00af00\">21,249</span> (83.00 KB)\n",
       "</pre>\n"
      ],
      "text/plain": [
       "\u001b[1m Total params: \u001b[0m\u001b[38;5;34m21,249\u001b[0m (83.00 KB)\n"
      ]
     },
     "metadata": {},
     "output_type": "display_data"
    },
    {
     "data": {
      "text/html": [
       "<pre style=\"white-space:pre;overflow-x:auto;line-height:normal;font-family:Menlo,'DejaVu Sans Mono',consolas,'Courier New',monospace\"><span style=\"font-weight: bold\"> Trainable params: </span><span style=\"color: #00af00; text-decoration-color: #00af00\">21,249</span> (83.00 KB)\n",
       "</pre>\n"
      ],
      "text/plain": [
       "\u001b[1m Trainable params: \u001b[0m\u001b[38;5;34m21,249\u001b[0m (83.00 KB)\n"
      ]
     },
     "metadata": {},
     "output_type": "display_data"
    },
    {
     "data": {
      "text/html": [
       "<pre style=\"white-space:pre;overflow-x:auto;line-height:normal;font-family:Menlo,'DejaVu Sans Mono',consolas,'Courier New',monospace\"><span style=\"font-weight: bold\"> Non-trainable params: </span><span style=\"color: #00af00; text-decoration-color: #00af00\">0</span> (0.00 B)\n",
       "</pre>\n"
      ],
      "text/plain": [
       "\u001b[1m Non-trainable params: \u001b[0m\u001b[38;5;34m0\u001b[0m (0.00 B)\n"
      ]
     },
     "metadata": {},
     "output_type": "display_data"
    }
   ],
   "source": [
    "import tensorflow as tf\n",
    "from tensorflow.keras.models import Sequential\n",
    "from tensorflow.keras.layers import Dense, Dropout\n",
    "\n",
    "# Define the number of input features (the size of your Word2Vec vector)\n",
    "# Assuming EMBEDDING_DIM is defined from your Word2Vec training\n",
    "input_dim = EMBEDDING_DIM \n",
    "\n",
    "# Initialize and define all layers inside the Sequential constructor\n",
    "model = Sequential([\n",
    "    # Input Layer & First Hidden Layer\n",
    "    Dense(units=128, input_dim=input_dim, activation='relu'),\n",
    "    \n",
    "    # Dropout Layer (Regularization)\n",
    "    Dropout(0.5),\n",
    "    \n",
    "    # Second Hidden Layer\n",
    "    Dense(units=64, activation='relu'),\n",
    "    \n",
    "    # Output Layer (Binary Classification)\n",
    "    Dense(units=1, activation='sigmoid')\n",
    "])\n",
    "\n",
    "# Display the model structure\n",
    "model.summary()"
   ]
  },
  {
   "cell_type": "code",
   "execution_count": 25,
   "id": "dc010c7f",
   "metadata": {},
   "outputs": [
    {
     "name": "stdout",
     "output_type": "stream",
     "text": [
      "Epoch 1/10\n",
      "\u001b[1m1006/1006\u001b[0m \u001b[32m━━━━━━━━━━━━━━━━━━━━\u001b[0m\u001b[37m\u001b[0m \u001b[1m6s\u001b[0m 4ms/step - accuracy: 0.9267 - loss: 0.1902 - val_accuracy: 0.9524 - val_loss: 0.1256\n",
      "Epoch 2/10\n",
      "\u001b[1m1006/1006\u001b[0m \u001b[32m━━━━━━━━━━━━━━━━━━━━\u001b[0m\u001b[37m\u001b[0m \u001b[1m4s\u001b[0m 4ms/step - accuracy: 0.9557 - loss: 0.1203 - val_accuracy: 0.9597 - val_loss: 0.1076\n",
      "Epoch 3/10\n",
      "\u001b[1m1006/1006\u001b[0m \u001b[32m━━━━━━━━━━━━━━━━━━━━\u001b[0m\u001b[37m\u001b[0m \u001b[1m3s\u001b[0m 3ms/step - accuracy: 0.9604 - loss: 0.1087 - val_accuracy: 0.9625 - val_loss: 0.1040\n",
      "Epoch 4/10\n",
      "\u001b[1m1006/1006\u001b[0m \u001b[32m━━━━━━━━━━━━━━━━━━━━\u001b[0m\u001b[37m\u001b[0m \u001b[1m3s\u001b[0m 3ms/step - accuracy: 0.9623 - loss: 0.1040 - val_accuracy: 0.9631 - val_loss: 0.1037\n",
      "Epoch 5/10\n",
      "\u001b[1m1006/1006\u001b[0m \u001b[32m━━━━━━━━━━━━━━━━━━━━\u001b[0m\u001b[37m\u001b[0m \u001b[1m4s\u001b[0m 4ms/step - accuracy: 0.9640 - loss: 0.1003 - val_accuracy: 0.9611 - val_loss: 0.1031\n",
      "Epoch 6/10\n",
      "\u001b[1m1006/1006\u001b[0m \u001b[32m━━━━━━━━━━━━━━━━━━━━\u001b[0m\u001b[37m\u001b[0m \u001b[1m7s\u001b[0m 6ms/step - accuracy: 0.9635 - loss: 0.0961 - val_accuracy: 0.9611 - val_loss: 0.1100\n",
      "Epoch 7/10\n",
      "\u001b[1m1006/1006\u001b[0m \u001b[32m━━━━━━━━━━━━━━━━━━━━\u001b[0m\u001b[37m\u001b[0m \u001b[1m6s\u001b[0m 6ms/step - accuracy: 0.9668 - loss: 0.0928 - val_accuracy: 0.9701 - val_loss: 0.0900\n",
      "Epoch 8/10\n",
      "\u001b[1m1006/1006\u001b[0m \u001b[32m━━━━━━━━━━━━━━━━━━━━\u001b[0m\u001b[37m\u001b[0m \u001b[1m3s\u001b[0m 3ms/step - accuracy: 0.9668 - loss: 0.0896 - val_accuracy: 0.9692 - val_loss: 0.0922\n",
      "Epoch 9/10\n",
      "\u001b[1m1006/1006\u001b[0m \u001b[32m━━━━━━━━━━━━━━━━━━━━\u001b[0m\u001b[37m\u001b[0m \u001b[1m3s\u001b[0m 3ms/step - accuracy: 0.9679 - loss: 0.0893 - val_accuracy: 0.9681 - val_loss: 0.0928\n",
      "Epoch 10/10\n",
      "\u001b[1m1006/1006\u001b[0m \u001b[32m━━━━━━━━━━━━━━━━━━━━\u001b[0m\u001b[37m\u001b[0m \u001b[1m3s\u001b[0m 3ms/step - accuracy: 0.9691 - loss: 0.0859 - val_accuracy: 0.9703 - val_loss: 0.0886\n",
      "\n",
      "Model training complete.\n"
     ]
    }
   ],
   "source": [
    "# 1. Compile the model\n",
    "model.compile(\n",
    "    optimizer='adam', # The standard, efficient optimizer for deep learning\n",
    "    loss='binary_crossentropy', # Standard loss function for binary classification\n",
    "    metrics=['accuracy']\n",
    ")\n",
    "\n",
    "# 2. Train the model\n",
    "# You can use a validation split to monitor performance on unseen data during training\n",
    "history = model.fit(\n",
    "    X_train, \n",
    "    Y_train,\n",
    "    epochs=10,         # Number of full passes through the training data\n",
    "    batch_size=32,     # Number of samples per gradient update\n",
    "    validation_split=0.1, # Use 10% of the training data to monitor validation loss\n",
    "    verbose=1\n",
    ")\n",
    "\n",
    "print(\"\\nModel training complete.\")"
   ]
  },
  {
   "cell_type": "code",
   "execution_count": 31,
   "id": "85e3c149",
   "metadata": {},
   "outputs": [
    {
     "name": "stderr",
     "output_type": "stream",
     "text": [
      "WARNING:absl:You are saving your model as an HDF5 file via `model.save()` or `keras.saving.save_model(model)`. This file format is considered legacy. We recommend using instead the native Keras format, e.g. `model.save('my_model.keras')` or `keras.saving.save_model(model, 'my_model.keras')`. \n"
     ]
    }
   ],
   "source": [
    "model.save(\"fake_news_classifier.h5\")"
   ]
  },
  {
   "cell_type": "code",
   "execution_count": 26,
   "id": "549df361",
   "metadata": {},
   "outputs": [
    {
     "name": "stdout",
     "output_type": "stream",
     "text": [
      "\n",
      "--- Final Model Evaluation ---\n",
      "Test Loss: 0.0696\n",
      "Test Accuracy: 0.9750\n"
     ]
    }
   ],
   "source": [
    "# Evaluate the model on the test data\n",
    "loss, accuracy = model.evaluate(X_test, Y_test, verbose=0)\n",
    "\n",
    "print(\"\\n--- Final Model Evaluation ---\")\n",
    "print(f\"Test Loss: {loss:.4f}\")\n",
    "print(f\"Test Accuracy: {accuracy:.4f}\")"
   ]
  },
  {
   "cell_type": "code",
   "execution_count": 27,
   "id": "c6840f8e",
   "metadata": {},
   "outputs": [],
   "source": [
    "from sklearn.metrics import confusion_matrix, classification_report\n",
    "\n",
    "# Generate probabilities on the test set\n",
    "# .predict() outputs a probability for each test sample\n",
    "Y_pred_proba = model.predict(X_test, verbose=0)\n",
    "\n",
    "# Convert probabilities to class labels (0 or 1)\n",
    "# We use a threshold of 0.5: if probability > 0.5, predict 1 (True), otherwise 0 (Fake)\n",
    "Y_pred = (Y_pred_proba > 0.5).astype(\"int32\")\n",
    "\n",
    "# Flatten Y_test and Y_pred to ensure they are 1D arrays for scikit-learn metrics\n",
    "Y_test_flat = Y_test.flatten()\n",
    "Y_pred_flat = Y_pred.flatten()"
   ]
  },
  {
   "cell_type": "code",
   "execution_count": 28,
   "id": "7f0b3535",
   "metadata": {},
   "outputs": [
    {
     "name": "stdout",
     "output_type": "stream",
     "text": [
      "\n",
      "--- Confusion Matrix ---\n",
      "[[4561  133]\n",
      " [  90 4150]]\n"
     ]
    }
   ],
   "source": [
    "# Calculate the confusion matrix\n",
    "cm = confusion_matrix(Y_test_flat, Y_pred_flat)\n",
    "\n",
    "print(\"\\n--- Confusion Matrix ---\")\n",
    "print(cm)"
   ]
  },
  {
   "cell_type": "code",
   "execution_count": 29,
   "id": "b15bea47",
   "metadata": {},
   "outputs": [
    {
     "name": "stdout",
     "output_type": "stream",
     "text": [
      "\n",
      "--- Classification Report ---\n",
      "               precision    recall  f1-score   support\n",
      "\n",
      "Fake News (0)       0.98      0.97      0.98      4694\n",
      "True News (1)       0.97      0.98      0.97      4240\n",
      "\n",
      "     accuracy                           0.98      8934\n",
      "    macro avg       0.97      0.98      0.97      8934\n",
      " weighted avg       0.98      0.98      0.98      8934\n",
      "\n"
     ]
    }
   ],
   "source": [
    "print(\"\\n--- Classification Report ---\")\n",
    "# Labels: 0 (Fake) and 1 (True)\n",
    "print(classification_report(Y_test_flat, Y_pred_flat, target_names=['Fake News (0)', 'True News (1)']))"
   ]
  },
  {
   "cell_type": "code",
   "execution_count": null,
   "id": "a40f0764",
   "metadata": {},
   "outputs": [],
   "source": [
    "# After training Word2Vec:\n",
    "word2vec_model.save(\"word2vec_model.model\")\n",
    "\n",
    "# After training Keras model:\n",
    "model.save(\"fake_news_classifier.h5\") # or .keras format"
   ]
  }
 ],
 "metadata": {
  "kernelspec": {
   "display_name": "Python 3",
   "language": "python",
   "name": "python3"
  },
  "language_info": {
   "codemirror_mode": {
    "name": "ipython",
    "version": 3
   },
   "file_extension": ".py",
   "mimetype": "text/x-python",
   "name": "python",
   "nbconvert_exporter": "python",
   "pygments_lexer": "ipython3",
   "version": "3.13.0"
  }
 },
 "nbformat": 4,
 "nbformat_minor": 5
}
